{
 "cells": [
  {
   "cell_type": "code",
   "execution_count": 10,
   "metadata": {},
   "outputs": [],
   "source": [
    "import os\n",
    "import pandas as pd\n",
    "import numpy as np\n",
    "from collections import defaultdict"
   ]
  },
  {
   "cell_type": "code",
   "execution_count": 2,
   "metadata": {
    "collapsed": true
   },
   "outputs": [],
   "source": [
    "in_dir = \"final\"\n",
    "dfs_list = []\n",
    "features = []\n",
    "labels = []"
   ]
  },
  {
   "cell_type": "code",
   "execution_count": 4,
   "metadata": {
    "collapsed": true
   },
   "outputs": [],
   "source": [
    "\n",
    "def trim_first_last_n_seconds(df, n, freq):\n",
    "    remove_indexes = list(range(0, int(n*1000/freq)))\n",
    "    df = df.drop(remove_indexes)\n",
    "    remove_indexes = list(range(df.shape[0] - int(n*1000/freq), df.shape[0]-1))\n",
    "    df = df.drop(remove_indexes)\n",
    "    return df\n"
   ]
  },
  {
   "cell_type": "code",
   "execution_count": 92,
   "metadata": {},
   "outputs": [
    {
     "name": "stdout",
     "output_type": "stream",
     "text": [
      "final/0_1_android.sensor.accelerometer.data.csv\n",
      "               0         1         2         3  4        5\n",
      "0  1519420543519 -2.570769  0.186704  9.110194  2  sitting\n",
      "1  1519420543523 -2.513322  0.186704  9.148493  2  sitting\n",
      "2  1519420543527 -2.465449  0.205853  9.138918  2  sitting\n",
      "3  1519420543531 -2.465449  0.215428  9.148493  2  sitting\n",
      "4  1519420543535 -2.484598  0.205853  9.167642  2  sitting\n",
      "Before trimming:  (64964, 6)\n",
      "After trimming:  (59965, 6)\n",
      "                  0         1         2         3  4        5\n",
      "2500  1519420553366 -2.637791 -0.004787  9.138918  2  sitting\n",
      "2501  1519420553369 -2.656940 -0.014362  9.138918  2  sitting\n",
      "2502  1519420553373 -2.666515 -0.014362  9.158067  2  sitting\n",
      "2503  1519420553377 -2.637791 -0.004787  9.148493  2  sitting\n",
      "2504  1519420553381 -2.656940 -0.023936  9.148493  2  sitting\n",
      "final/10_1_android.sensor.accelerometer.data.csv\n",
      "               0         1         2         3  4            5\n",
      "0  1519427100536  7.702734  5.998462 -0.052660  2  laying_down\n",
      "1  1519427100540  7.683585  5.988888 -0.052660  2  laying_down\n",
      "2  1519427100544  7.664436  6.008037 -0.033511  2  laying_down\n",
      "3  1519427100547  7.664436  5.998462 -0.052660  2  laying_down\n",
      "4  1519427100551  7.645287  5.979313 -0.052660  2  laying_down\n",
      "Before trimming:  (64675, 6)\n",
      "After trimming:  (59676, 6)\n",
      "                  0         1         2         3  4            5\n",
      "2500  1519427110372  5.232497  3.968655  6.161230  2  laying_down\n",
      "2501  1519427110376  5.088879  3.911208  6.209103  2  laying_down\n",
      "2502  1519427110380  5.002708  3.872910  6.237826  2  laying_down\n",
      "2503  1519427110384  4.897387  3.777164  6.276124  2  laying_down\n",
      "2504  1519427110388  4.859089  3.700568  6.371870  2  laying_down\n",
      "final/11_1_android.sensor.accelerometer.data.csv\n",
      "               0         1         2         3  4        5\n",
      "0  1519427491478 -0.244151  0.981392  9.397431  2  walking\n",
      "1  1519427491482 -0.292024  0.904796  9.876159  2  walking\n",
      "2  1519427491486 -0.272875  0.847349  9.244238  2  walking\n",
      "3  1519427491490 -0.253726  0.904796  9.483603  2  walking\n",
      "4  1519427491494 -0.272875  0.904796  9.502751  2  walking\n",
      "Before trimming:  (66938, 6)\n",
      "After trimming:  (61939, 6)\n",
      "                  0         1         2         3  4        5\n",
      "2500  1519427501324  2.379278 -3.681418  9.014449  2  walking\n",
      "2501  1519427501327  2.436726 -3.604822  9.004874  2  walking\n",
      "2502  1519427501331  2.465449 -3.576098  8.966576  2  walking\n",
      "2503  1519427501335  2.475024 -3.566524  8.918703  2  walking\n",
      "2504  1519427501339  2.484598 -3.585673  8.813383  2  walking\n",
      "final/12_1_android.sensor.accelerometer.data.csv\n",
      "               0         1         2         3  4        5\n",
      "0  1519427975095 -1.019691  1.622888  9.196365  3  walking\n",
      "1  1519427975099 -1.038840  1.565441  9.158067  3  walking\n",
      "2  1519427975103 -1.067564  1.594164  9.138918  3  walking\n",
      "3  1519427975107 -1.096287  1.584590  9.177217  3  walking\n",
      "4  1519427975110 -1.115436  1.584590  9.272962  3  walking\n",
      "Before trimming:  (60980, 6)\n",
      "After trimming:  (55981, 6)\n",
      "                  0         1         2         3  4        5\n",
      "2500  1519427984934  0.588835 -1.986721  7.894225  3  walking\n",
      "2501  1519427984938  0.550537 -2.063318  7.922949  3  walking\n",
      "2502  1519427984942  0.406919 -2.063318  7.894225  3  walking\n",
      "2503  1519427984946  0.215428 -2.044169  7.798480  3  walking\n",
      "2504  1519427984950  0.100533 -1.957998  7.769756  3  walking\n",
      "final/13_1_android.sensor.accelerometer.data.csv\n",
      "               0         1         2         3  4         5\n",
      "0  1519428672776 -0.004787  2.206936  7.568690  3  standing\n",
      "1  1519428672780  0.000000  2.178212  7.405922  3  standing\n",
      "2  1519428672784 -0.043086  2.446300  7.271879  3  standing\n",
      "3  1519428672788  0.311173  2.159063  7.281453  3  standing\n",
      "4  1519428672792 -0.119682  2.321831  7.042089  3  standing\n",
      "Before trimming:  (62506, 6)\n",
      "After trimming:  (57507, 6)\n",
      "                  0         1         2         3  4         5\n",
      "2500  1519428682636  9.148493 -3.489927 -0.895221  3  standing\n",
      "2501  1519428682640  9.282537 -3.576098 -0.856923  3  standing\n",
      "2502  1519428682644  9.454879 -3.614397 -0.799476  3  standing\n",
      "2503  1519428682647  9.588923 -3.652695 -0.742028  3  standing\n",
      "2504  1519428682651  9.675094 -3.652695 -0.732454  3  standing\n",
      "final/14_1_android.sensor.accelerometer.data.csv\n",
      "               0         1         2         3  4        5\n",
      "0  1519428982006  3.796313 -0.292024  7.913374  2  sitting\n",
      "1  1519428982010  3.748441 -0.215428  7.961247  2  sitting\n",
      "2  1519428982014  3.758015 -0.186704  7.932523  2  sitting\n",
      "3  1519428982018  3.815462 -0.167555  7.970821  2  sitting\n",
      "4  1519428982022  3.815462 -0.157980  7.980396  2  sitting\n",
      "Before trimming:  (65108, 6)\n",
      "After trimming:  (60109, 6)\n",
      "                  0         1         2         3  4        5\n",
      "2500  1519428991827  4.983559 -7.032515  5.060155  2  sitting\n",
      "2501  1519428991831  5.002708 -7.003791  5.088879  2  sitting\n",
      "2502  1519428991835  4.983559 -7.013366  5.060155  2  sitting\n",
      "2503  1519428991839  4.964410 -7.003791  5.069730  2  sitting\n",
      "2504  1519428991842  4.973984 -7.042089  4.993133  2  sitting\n",
      "final/15_1_android.sensor.accelerometer.data.csv\n",
      "               0         1         2         3  4            5\n",
      "0  1519429382869 -1.776081  6.841023  5.548458  2  laying_down\n",
      "1  1519429382873 -1.919699  7.472944  5.854844  2  laying_down\n",
      "2  1519429382877 -1.737783  6.965493  5.500585  2  laying_down\n",
      "3  1519429382881 -1.728208  7.118686  5.634629  2  laying_down\n",
      "4  1519429382885 -1.661186  7.061238  5.596331  2  laying_down\n",
      "Before trimming:  (62588, 6)\n",
      "After trimming:  (57589, 6)\n",
      "                  0         1         2         3  4            5\n",
      "2500  1519429392706 -3.384607 -3.643120  8.277207  3  laying_down\n",
      "2501  1519429392710 -3.394182 -3.690993  8.277207  3  laying_down\n",
      "2502  1519429392714 -3.365458 -3.690993  8.305931  3  laying_down\n",
      "2503  1519429392717 -3.384607 -3.671844  8.296356  3  laying_down\n",
      "2504  1519429392721 -3.432480 -3.652695  8.305931  3  laying_down\n",
      "final/16_1_android.sensor.accelerometer.data.csv\n",
      "               0         1         2          3  4        5\n",
      "0  1519431097184 -0.895221  3.805888  13.418746  3  sitting\n",
      "1  1519431097188 -0.636708  2.656940   9.339984  3  sitting\n",
      "2  1519431097192 -0.579261  2.494173   8.708063  3  sitting\n",
      "3  1519431097196 -0.627134  2.513322   8.947427  3  sitting\n",
      "4  1519431097200 -0.607985  2.532471   8.889979  3  sitting\n",
      "Before trimming:  (82181, 6)\n",
      "After trimming:  (77182, 6)\n",
      "                  0         1         2         3  4        5\n",
      "2500  1519431107046 -0.493090  4.236743  8.210186  3  sitting\n",
      "2501  1519431107050 -0.445217  4.303765  8.248484  3  sitting\n",
      "2502  1519431107054 -0.416493  4.332489  8.258059  3  sitting\n",
      "2503  1519431107057 -0.454792  4.380362  8.286782  3  sitting\n",
      "2504  1519431107061 -0.435643  4.437809  8.258059  3  sitting\n",
      "final/17_1_android.sensor.accelerometer.data.csv\n",
      "               0         1         2          3  4         5\n",
      "0  1519431455549  1.038840  2.953752   8.669765  3  standing\n",
      "1  1519431455553  1.555866  4.830366  13.102786  3  standing\n",
      "2  1519431455557  1.115436  3.556949   9.186790  3  standing\n",
      "3  1519431455561  1.029265  3.422905   8.650616  3  standing\n",
      "4  1519431455565  1.067564  3.566524   8.870831  3  standing\n",
      "Before trimming:  (83784, 6)\n",
      "After trimming:  (78785, 6)\n",
      "                  0         1         2         3  4         5\n",
      "2500  1519431465386  2.752686 -0.962243  8.918703  3  standing\n",
      "2501  1519431465390  2.704813 -1.010116  8.985725  3  standing\n",
      "2502  1519431465394  2.628217 -1.057989  9.062322  3  standing\n",
      "2503  1519431465397  2.532471 -1.153735  9.119769  3  standing\n",
      "2504  1519431465401  2.484598 -1.278204  9.272962  3  standing\n",
      "final/18_1_android.sensor.accelerometer.data.csv\n",
      "               0         1         2          3  4        5\n",
      "0  1519432122428  1.172884  5.481436  12.882571  3  walking\n",
      "1  1519432122431  0.847349  3.777164   8.928278  3  walking\n",
      "2  1519432122434  0.789901  3.509076   8.344230  3  walking\n",
      "3  1519432122437  0.837774  3.595247   8.545295  3  walking\n",
      "4  1519432122440  0.809050  3.623971   8.526146  3  walking\n",
      "Before trimming:  (85978, 6)\n",
      "After trimming:  (80979, 6)\n",
      "                  0         1         2          3  4        5\n",
      "2500  1519432132290  4.389936  0.014362  10.460207  3  walking\n",
      "2501  1519432132294  4.504831  0.033511  10.622974  3  walking\n",
      "2502  1519432132298  4.600576 -0.062235  10.747444  3  walking\n",
      "2503  1519432132302  4.562278 -0.100533  10.814466  3  walking\n",
      "2504  1519432132305  4.437809 -0.167555  10.766593  3  walking\n",
      "final/19_1_android.sensor.accelerometer.data.csv\n"
     ]
    },
    {
     "name": "stdout",
     "output_type": "stream",
     "text": [
      "               0         1         2         3  4            5\n",
      "0  1519432749238  0.081384  8.717637 -4.715471  3  laying_down\n",
      "1  1519432749241  0.100533  8.727212 -4.734620  3  laying_down\n",
      "2  1519432749245  0.148406  8.784659 -4.763344  3  laying_down\n",
      "3  1519432749248  0.129257  8.727212 -4.772918  3  laying_down\n",
      "4  1519432749252  0.157980  8.717637 -4.792067  3  laying_down\n",
      "Before trimming:  (101168, 6)\n",
      "After trimming:  (96169, 6)\n",
      "                  0         1         2         3  4            5\n",
      "2500  1519432759099 -0.473941  0.885647  9.359133  3  laying_down\n",
      "2501  1519432759102 -0.473941  0.876072  9.330409  3  laying_down\n",
      "2502  1519432759106 -0.464366  0.837774  9.301685  3  laying_down\n",
      "2503  1519432759110 -0.454792  0.847349  9.263388  3  laying_down\n",
      "2504  1519432759114 -0.445217  0.837774  9.301685  3  laying_down\n",
      "final/1_1_android.sensor.accelerometer.data.csv\n",
      "               0         1         2          3  4         5\n",
      "0  1519420932540 -2.838857 -2.159063  12.403843  2  standing\n",
      "1  1519420932544 -1.986721 -1.527142   8.660190  2  standing\n",
      "2  1519420932548 -2.178212 -1.594164   9.186790  2  standing\n",
      "3  1519420932552 -2.206936 -1.546292   9.091045  2  standing\n",
      "4  1519420932556 -2.254809 -1.546292   9.062322  2  standing\n",
      "Before trimming:  (50274, 6)\n",
      "After trimming:  (45275, 6)\n",
      "                  0         1         2         3  4         5\n",
      "2500  1519420947881 -7.310177 -4.954835  1.728208  2  standing\n",
      "2501  1519420947886 -7.348475 -5.356967  1.488844  2  standing\n",
      "2502  1519420947891 -7.415497 -5.988888  1.115436  2  standing\n",
      "2503  1519420947896 -7.453795 -6.209103  1.067564  2  standing\n",
      "2504  1519420947901 -7.405922 -6.352721  0.914371  2  standing\n",
      "final/2_1_android.sensor.accelerometer.data.csv\n",
      "               0         1         2         3  4            5\n",
      "0  1519421239706  4.801642  7.942098 -3.700568  3  laying_down\n",
      "1  1519421239710  4.878239  8.277207 -3.968655  3  laying_down\n",
      "2  1519421239714  4.581427  7.702734 -3.738866  3  laying_down\n",
      "3  1519421239718  4.686748  7.817628 -3.825037  3  laying_down\n",
      "4  1519421239722  4.648449  7.712308 -3.748441  3  laying_down\n",
      "Before trimming:  (59060, 6)\n",
      "After trimming:  (54061, 6)\n",
      "                  0         1         2         3  4            5\n",
      "2500  1519421249575  3.442054  9.435729 -3.700568  3  laying_down\n",
      "2501  1519421249579  3.489927  9.483603 -3.738866  3  laying_down\n",
      "2502  1519421249582  3.451629  9.502751 -3.777164  3  laying_down\n",
      "2503  1519421249586  3.470778  9.541050 -3.853761  3  laying_down\n",
      "2504  1519421249590  3.442054  9.617646 -3.911208  3  laying_down\n",
      "final/3_1_android.sensor.accelerometer.data.csv\n",
      "               0         1         2          3  4        5\n",
      "0  1519421540317  0.023936 -3.509076  10.374036  3  walking\n",
      "1  1519421540321  0.052660 -3.681418  10.211268  3  walking\n",
      "2  1519421540325  0.119682 -3.796313  10.115523  3  walking\n",
      "3  1519421540328  0.129257 -3.911208   9.895309  3  walking\n",
      "4  1519421540332  0.272875 -3.911208   9.818711  3  walking\n",
      "Before trimming:  (55316, 6)\n",
      "After trimming:  (50317, 6)\n",
      "                  0         1         2         3  4        5\n",
      "2500  1519421550145 -7.970821 -2.388853 -2.752686  3  walking\n",
      "2501  1519421550149 -7.846352 -2.369704 -2.723962  3  walking\n",
      "2502  1519421550153 -7.788905 -2.331405 -2.628217  3  walking\n",
      "2503  1519421550157 -7.721883 -2.360129 -2.656940  3  walking\n",
      "2504  1519421550161 -7.626137 -2.360129 -2.628217  3  walking\n",
      "final/4_1_android.sensor.accelerometer.data.csv\n",
      "               0         1         2          3  4        5\n",
      "0  1519421912881 -2.139914  0.943094  12.518738  3  sitting\n",
      "1  1519421912885 -2.130340  0.904796  12.059159  3  sitting\n",
      "2  1519421912889 -2.092042  0.885647   8.526146  3  sitting\n",
      "3  1519421912893 -2.082467  0.914371   9.158067  3  sitting\n",
      "4  1519421912897 -2.101616  0.914371   9.129343  3  sitting\n",
      "Before trimming:  (48531, 6)\n",
      "After trimming:  (43532, 6)\n",
      "                  0         1         2         3  4        5\n",
      "2500  1519421922781 -1.699485 -0.904796  9.244238  3  sitting\n",
      "2501  1519421922785 -1.709059 -0.895221  9.272962  3  sitting\n",
      "2502  1519421922789 -1.709059 -0.904796  9.311260  3  sitting\n",
      "2503  1519421922792 -1.728208 -0.885647  9.320834  3  sitting\n",
      "2504  1519421922796 -1.699485 -0.837774  9.301685  3  sitting\n",
      "final/5_1_android.sensor.accelerometer.data.csv\n",
      "               0         1         2         3  4            5\n",
      "0  1519422712755  0.119682 -2.388853  9.339984  2  laying_down\n",
      "1  1519422712758  0.196278 -2.331405  9.244238  2  laying_down\n",
      "2  1519422712762  0.282450 -2.245235  9.244238  2  laying_down\n",
      "3  1519422712766  0.311173 -2.226085  9.272962  2  laying_down\n",
      "4  1519422712769  0.263300 -2.120765  9.215514  2  laying_down\n",
      "Before trimming:  (63094, 6)\n",
      "After trimming:  (58095, 6)\n",
      "                  0         1         2         3  4            5\n",
      "2500  1519422722593  3.020774 -4.160147  8.401677  2  laying_down\n",
      "2501  1519422722597  3.011199 -4.208019  8.382527  2  laying_down\n",
      "2502  1519422722601  3.030348 -4.255892  8.325080  2  laying_down\n",
      "2503  1519422722605  3.011199 -4.303765  8.296356  2  laying_down\n",
      "2504  1519422722609  3.011199 -4.322914  8.277207  2  laying_down\n",
      "final/6_1_android.sensor.accelerometer.data.csv\n",
      "               0         1         2          3  4         5\n",
      "0  1519425139148 -7.348475 -0.943094  11.446387  2  standing\n",
      "1  1519425139151 -5.261221 -0.655857   8.009120  2  standing\n",
      "2  1519425139155 -4.935686 -0.675006   7.520817  2  standing\n",
      "3  1519425139158 -5.098454 -0.751603   7.741032  2  standing\n",
      "4  1519425139162 -5.194199 -0.799476   7.721883  2  standing\n",
      "Before trimming:  (63971, 6)\n",
      "After trimming:  (58972, 6)\n",
      "                  0         1         2         3  4         5\n",
      "2500  1519425148945 -4.313340 -2.762261  7.894225  2  standing\n",
      "2501  1519425148949 -4.361212 -2.771835  7.884651  2  standing\n",
      "2502  1519425148952 -4.322914 -2.790984  7.922949  2  standing\n",
      "2503  1519425148956 -4.313340 -2.819708  7.932523  2  standing\n",
      "2504  1519425148960 -4.265467 -2.829283  7.961247  2  standing\n",
      "final/7_1_android.sensor.accelerometer.data.csv\n",
      "               0         1         2         3  4        5\n",
      "0  1519425832431 -1.163309 -2.771835  9.004874  3  walking\n",
      "1  1519425832435 -1.172884 -2.810134  9.033598  3  walking\n",
      "2  1519425832439 -1.163309 -2.992050  9.081471  3  walking\n",
      "3  1519425832442 -1.134585 -3.164392  9.129343  3  walking\n",
      "4  1519425832446 -1.249480 -3.202690  9.071896  3  walking\n",
      "Before trimming:  (64212, 6)\n",
      "After trimming:  (59213, 6)\n",
      "                  0         1         2         3  4        5\n",
      "2500  1519425842317 -2.398427 -3.853761  7.741032  3  walking\n",
      "2501  1519425842320 -2.446300 -3.834611  7.827203  3  walking\n",
      "2502  1519425842324 -2.551620 -3.777164  7.913374  3  walking\n",
      "2503  1519425842328 -2.609068 -3.729291  8.076141  3  walking\n",
      "2504  1519425842332 -2.723962 -3.700568  8.200611  3  walking\n",
      "final/8_1_android.sensor.accelerometer.data.csv\n",
      "               0         1         2         3  4         5\n",
      "0  1519426496940 -7.310177  0.119682  6.036760  3  standing\n",
      "1  1519426496943 -7.300602  0.148406  6.017611  3  standing\n",
      "2  1519426496947 -7.281453  0.157980  6.017611  3  standing\n",
      "3  1519426496951 -7.329326  0.129257  6.008037  3  standing\n",
      "4  1519426496955 -7.329326  0.129257  5.998462  3  standing\n",
      "Before trimming:  (64175, 6)\n",
      "After trimming:  (59176, 6)\n",
      "                  0         1         2         3  4         5\n",
      "2500  1519426506784 -9.081471 -3.375033 -0.119682  3  standing\n",
      "2501  1519426506788 -9.091045 -3.355883 -0.110107  3  standing\n",
      "2502  1519426506792 -9.091045 -3.403756 -0.119682  3  standing\n",
      "2503  1519426506796 -9.071896 -3.394182 -0.100533  3  standing\n",
      "2504  1519426506800 -9.052747 -3.394182 -0.081384  3  standing\n",
      "final/9_1_android.sensor.accelerometer.data.csv\n",
      "               0         1         2         3  4        5\n",
      "0  1519426791963 -1.201607 -1.431397  9.339984  2  sitting\n",
      "1  1519426791967 -1.402673 -1.220756 -9.330409  2  sitting\n",
      "2  1519426791971 -1.364375 -1.211182 -9.339984  2  sitting\n",
      "3  1519426791975 -1.373949 -1.249480 -9.339984  2  sitting\n",
      "4  1519426791979 -1.364375 -1.230331 -9.339984  2  sitting\n",
      "Before trimming:  (52095, 6)\n",
      "After trimming:  (47096, 6)\n",
      "                  0         1         2         3  4        5\n",
      "2500  1519426801788  0.971818 -0.933520  9.560199  2  sitting\n",
      "2501  1519426801792  0.952669 -0.876072  9.512326  2  sitting\n",
      "2502  1519426801796  0.923945 -0.809050  9.512326  2  sitting\n",
      "2503  1519426801799  0.895221 -0.742028  9.550624  2  sitting\n",
      "2504  1519426801803  0.876072 -0.732454  9.521900  2  sitting\n"
     ]
    }
   ],
   "source": [
    "for root, dirs, files in os.walk(in_dir):\n",
    "    path = root.split(os.sep)\n",
    "\n",
    "    for f in files:\n",
    "        print(\"/\".join(path) + \"/\" + f)\n",
    "\n",
    "        full_path = \"/\".join(path) + \"/\" + f\n",
    "        df = pd.read_csv(full_path, header=None)\n",
    "        print(df.head())\n",
    "        print(\"Before trimming: \", df.shape)\n",
    "        df = trim_first_last_n_seconds(df, 10, 4)\n",
    "        print(\"After trimming: \", df.shape)\n",
    "   \n",
    "        #Sample the data according to the size of the window with 50% overlap\n",
    "        freq = 4\n",
    "        window_size = 10\n",
    "        for index in range(0, df.shape[0]-100, 5):\n",
    "            indexes = list(range(index, index + int(window_size/freq)))\n",
    "            labels.append(df[5].iloc[1])\n",
    "            window = df.iloc[indexes,:]\n",
    "            \n",
    "            #Generate the features for this window\n",
    "            mean_x = np.mean(window[1].tolist())\n",
    "            mean_y = np.mean(window[2].tolist())\n",
    "            mean_z = np.mean(window[3].tolist())\n",
    "            \n",
    "            var_x = np.var(window[1].tolist())\n",
    "            var_y = np.var(window[2].tolist())\n",
    "            var_z = np.var(window[3].tolist())\n",
    "        \n",
    "            #Store the features\n",
    "            window_feature = []\n",
    "            window_feature.append(mean_x)\n",
    "            window_feature.append(mean_y)\n",
    "            window_feature.append(mean_z)\n",
    "            window_feature.append(var_x)\n",
    "            window_feature.append(var_y)\n",
    "            window_feature.append(var_z)  \n",
    "            window_feature.append(df[5].iloc[1])\n",
    "            features.append(window_feature)\n",
    "        dfs_list.append(df)\n",
    "        print(df.head())\n",
    "dfs = pd.concat(dfs_list)      "
   ]
  },
  {
   "cell_type": "code",
   "execution_count": 93,
   "metadata": {},
   "outputs": [
    {
     "name": "stdout",
     "output_type": "stream",
     "text": [
      "454441\n"
     ]
    }
   ],
   "source": [
    "print(len(features))"
   ]
  },
  {
   "cell_type": "code",
   "execution_count": 94,
   "metadata": {},
   "outputs": [],
   "source": [
    "Xmap = defaultdict(list)\n",
    "for e in features:\n",
    "    Xmap[e[-1]].append(e[:-1])"
   ]
  },
  {
   "cell_type": "code",
   "execution_count": 95,
   "metadata": {},
   "outputs": [
    {
     "name": "stdout",
     "output_type": "stream",
     "text": [
      "109896\n"
     ]
    }
   ],
   "source": [
    "print(len(Xmap['sitting']))"
   ]
  },
  {
   "cell_type": "code",
   "execution_count": 96,
   "metadata": {},
   "outputs": [],
   "source": [
    "mean={}\n",
    "var = {}\n",
    "for i in range(1,4):\n",
    "    var[i]=np.mean(dfs[i])\n",
    "    mean[i]=np.var(dfs[i])\n",
    "min_={}\n",
    "max_ = {}\n",
    "for i in range(1,4):\n",
    "    min_[i]=np.min(dfs[i])\n",
    "    max_[i]=np.max(dfs[i])"
   ]
  },
  {
   "cell_type": "code",
   "execution_count": 102,
   "metadata": {
    "collapsed": true
   },
   "outputs": [],
   "source": [
    "def get_color(i,num):\n",
    "    scale_ = 255 /(max_[i]-min_[i])\n",
    "    return (num - min_[i])*scale_\n",
    "def get_rgb(feature):\n",
    "    col = []\n",
    "    for i in range(1,4):\n",
    "        col.append(int(get_color(4-i,feature[4-i])))\n",
    "    return col\n",
    "    "
   ]
  },
  {
   "cell_type": "code",
   "execution_count": 129,
   "metadata": {},
   "outputs": [],
   "source": [
    "X_sitting_col = [get_rgb(x) for x in Xmap['laying_down']]"
   ]
  },
  {
   "cell_type": "code",
   "execution_count": 130,
   "metadata": {},
   "outputs": [
    {
     "data": {
      "text/plain": [
       "[[128, 38, 149],\n",
       " [127, 41, 134],\n",
       " [127, 41, 122],\n",
       " [128, 41, 138],\n",
       " [128, 41, 134]]"
      ]
     },
     "execution_count": 130,
     "metadata": {},
     "output_type": "execute_result"
    }
   ],
   "source": [
    "X_sitting_col[:5]"
   ]
  },
  {
   "cell_type": "code",
   "execution_count": 131,
   "metadata": {
    "collapsed": true
   },
   "outputs": [],
   "source": [
    "def spiral(lst,n):\n",
    "    dx,dy = 1,0            # Starting increments\n",
    "    x,y = 0,0              # Starting location\n",
    "    myarray = [[None]* n for j in range(n)]\n",
    "    for i in range(n**2):\n",
    "        myarray[x][y] = lst[i]\n",
    "        nx,ny = x+dx, y+dy\n",
    "        if 0<=nx<n and 0<=ny<n and myarray[nx][ny] == None:\n",
    "            x,y = nx,ny\n",
    "        else:\n",
    "            dx,dy = -dy,dx\n",
    "            x,y = x+dx, y+dy\n",
    "    return myarray"
   ]
  },
  {
   "cell_type": "code",
   "execution_count": 132,
   "metadata": {},
   "outputs": [],
   "source": [
    "X_sitting_spiral = spiral(X_sitting_col,200)\n"
   ]
  },
  {
   "cell_type": "code",
   "execution_count": 133,
   "metadata": {},
   "outputs": [
    {
     "name": "stdout",
     "output_type": "stream",
     "text": [
      "[[128, 38, 149], [127, 41, 134], [127, 41, 122], [128, 41, 138], [128, 41, 134]]\n"
     ]
    }
   ],
   "source": [
    "print(X_sitting_col[:5])"
   ]
  },
  {
   "cell_type": "code",
   "execution_count": 134,
   "metadata": {},
   "outputs": [],
   "source": [
    "npar = np.array(X_sitting_spiral)"
   ]
  },
  {
   "cell_type": "code",
   "execution_count": 135,
   "metadata": {},
   "outputs": [
    {
     "name": "stdout",
     "output_type": "stream",
     "text": [
      "124945\n"
     ]
    }
   ],
   "source": [
    "print(len(X_sitting_col))"
   ]
  },
  {
   "cell_type": "code",
   "execution_count": 136,
   "metadata": {},
   "outputs": [
    {
     "data": {
      "text/plain": [
       "(200, 200, 3)"
      ]
     },
     "execution_count": 136,
     "metadata": {},
     "output_type": "execute_result"
    }
   ],
   "source": [
    "npar.shape"
   ]
  },
  {
   "cell_type": "code",
   "execution_count": 137,
   "metadata": {},
   "outputs": [],
   "source": [
    "from PIL import Image\n",
    "import numpy as np\n",
    "\n",
    "w, h = 512, 512\n",
    "data = np.zeros((h, w, 3), dtype=np.uint8)\n",
    "data[256, 256] = [255, 0, 0]\n",
    "img = Image.fromarray(npar, 'RGB')\n",
    "img.save('my.png')\n",
    "#img.show()"
   ]
  },
  {
   "cell_type": "code",
   "execution_count": 138,
   "metadata": {},
   "outputs": [
    {
     "name": "stdout",
     "output_type": "stream",
     "text": [
      "{1: 33.48206113033793, 2: 11.10466898271074, 3: 21.79912471827089} {1: -2.5076527991960393, 2: -2.1792602660462737, 3: 4.536197084145258} {1: -19.603912000000001, 2: -19.594336999999999, 3: -19.603912000000001} {1: 19.594336999999999, 2: 156.8648, 3: 19.594336999999999}\n"
     ]
    }
   ],
   "source": [
    "print(mean,var,min_,max_)"
   ]
  },
  {
   "cell_type": "code",
   "execution_count": 139,
   "metadata": {},
   "outputs": [
    {
     "data": {
      "image/png": "[encoded data removed]",
      "text/plain": [
       "<matplotlib.figure.Figure at 0x1a1c112978>"
      ]
     },
     "metadata": {},
     "output_type": "display_data"
    }
   ],
   "source": [
    "from scipy.stats import norm\n",
    "import matplotlib.pyplot as plt\n",
    "\n",
    "\n",
    "# Generate some data for this demonstration.\n",
    "data = dfs[1]\n",
    "\n",
    "# Fit a normal distribution to the data:\n",
    "mu, std = norm.fit(data)\n",
    "\n",
    "# Plot the histogram.\n",
    "plt.hist(data, bins=25, normed=True, alpha=0.6, color='g')\n",
    "\n",
    "# Plot the PDF.\n",
    "xmin, xmax = plt.xlim()\n",
    "x = np.linspace(xmin, xmax, 100)\n",
    "p = norm.pdf(x, mu, std)\n",
    "plt.plot(x, p, 'k', linewidth=2)\n",
    "title = \"Fit results: mu = %.2f,  std = %.2f\" % (mu, std)\n",
    "plt.title(title)\n",
    "\n",
    "plt.show()"
   ]
  },
  {
   "cell_type": "code",
   "execution_count": null,
   "metadata": {
    "collapsed": true
   },
   "outputs": [],
   "source": []
  }
 ],
 "metadata": {
  "kernelspec": {
   "display_name": "Python 3",
   "language": "python",
   "name": "python3"
  },
  "language_info": {
   "codemirror_mode": {
    "name": "ipython",
    "version": 3
   },
   "file_extension": ".py",
   "mimetype": "text/x-python",
   "name": "python",
   "nbconvert_exporter": "python",
   "pygments_lexer": "ipython3",
   "version": "3.6.3"
  }
 },
 "nbformat": 4,
 "nbformat_minor": 2
}
