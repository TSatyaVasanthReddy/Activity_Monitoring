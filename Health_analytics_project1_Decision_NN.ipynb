{
 "cells": [
  {
   "cell_type": "code",
   "execution_count": 1,
   "metadata": {},
   "outputs": [
    {
     "name": "stderr",
     "output_type": "stream",
     "text": [
      "/anaconda/lib/python2.7/site-packages/h5py/__init__.py:34: FutureWarning: Conversion of the second argument of issubdtype from `float` to `np.floating` is deprecated. In future, it will be treated as `np.float64 == np.dtype(float).type`.\n",
      "  from ._conv import register_converters as _register_converters\n",
      "Using TensorFlow backend.\n"
     ]
    }
   ],
   "source": [
    "from numpy import linalg as LA\n",
    "import os\n",
    "import pandas as pd\n",
    "import numpy as np\n",
    "from scipy.signal import find_peaks_cwt\n",
    "import pickle\n",
    "from pathlib import Path\n",
    "from scipy.stats import kurtosis, skew\n",
    "from scipy.stats import iqr\n",
    "from pyentrp import entropy as ent\n",
    "from keras.models import Sequential\n",
    "from keras.layers import Dense\n",
    "from keras.layers import LSTM, LSTMCell\n",
    "from keras.layers import Dropout\n",
    "from sklearn import preprocessing\n",
    "from sklearn.model_selection import train_test_split\n",
    "from sklearn.preprocessing import OneHotEncoder\n",
    "from sklearn.metrics import precision_score, recall_score, roc_auc_score\n",
    "from sklearn.linear_model import LogisticRegression\n",
    "from sklearn.metrics import accuracy_score\n",
    "from sklearn.model_selection import KFold\n",
    "from sklearn.preprocessing import normalize\n",
    "import sys\n",
    "from sklearn import metrics\n",
    "from sklearn.tree import DecisionTreeClassifier\n",
    "from sklearn.linear_model import LogisticRegression\n",
    "import matplotlib.pyplot as plt\n",
    "from sklearn.svm import SVC\n",
    "from sklearn.neural_network import MLPClassifier\n",
    "from sklearn.ensemble import RandomForestClassifier\n",
    "from sklearn import preprocessing\n",
    "import matplotlib.pyplot as plt\n",
    "import math\n",
    "from tony_beltramelli_detect_peaks import detect_peaks\n",
    "\n",
    "%matplotlib inline"
   ]
  },
  {
   "cell_type": "code",
   "execution_count": 2,
   "metadata": {},
   "outputs": [
    {
     "name": "stdout",
     "output_type": "stream",
     "text": [
      "5.239645121570734\n"
     ]
    }
   ],
   "source": [
    "roll = [0.12, 2.56, -5.67, 8.432]\n",
    "\n",
    "rms_roll = np.sqrt(np.mean([x**2 for x in roll]))\n",
    "\n",
    "print rms_roll"
   ]
  },
  {
   "cell_type": "code",
   "execution_count": 3,
   "metadata": {
    "collapsed": true
   },
   "outputs": [],
   "source": [
    "in_dir = \"data_3_8_2018\""
   ]
  },
  {
   "cell_type": "markdown",
   "metadata": {},
   "source": [
    "## Compute features for accelerometer only"
   ]
  },
  {
   "cell_type": "code",
   "execution_count": 4,
   "metadata": {
    "collapsed": true
   },
   "outputs": [],
   "source": [
    "#Helper Functions\n",
    "\n",
    "def Signal_magnitude_area(x,y,z):\n",
    "\n",
    "        sum = 0    \n",
    "        for i in range(len(x)):\n",
    "            sum += (abs(x[i]) + abs(y[i]) + abs(z[i]))\n",
    "\n",
    "        return float(sum)/len(x)\n",
    "\n",
    "\n",
    "def Power(x):\n",
    "\n",
    "    power = (LA.norm(x)**2)/ len(x)\n",
    "    return power\n",
    "\n",
    "\n",
    "def number_of_peaks(window):\n",
    "    indexes = find_peaks_cwt(window, np.arange(1, len(window)))\n",
    "    return len(indexes)\n",
    "\n",
    "\n",
    "def number_of_peaks2(window):\n",
    "\n",
    "    print('Detect peaks with height threshold.')\n",
    "    indexes = detect_peaks(vector, 1.5)\n",
    "    return len(indexes)\n",
    "\n",
    "    \n",
    "def compute_accelerometer(in_dir, features, labels, ignore_pickle=False):\n",
    "    \n",
    "    trim_num_seconds = 10\n",
    "    acc_freq = 4\n",
    "    window_num_seconds = 4 #seconds\n",
    "    steps_per_sec = int(1000/acc_freq)\n",
    "    window_size = int(window_num_seconds*steps_per_sec)\n",
    "    window_step = 2 #seconds\n",
    "    window_jump_steps = int(window_step*steps_per_sec)\n",
    "\n",
    "    print(\"Window_size, Window_jump_steps: \", window_size, window_jump_steps)\n",
    "\n",
    "    #this function assumes that records are evenly spaced\n",
    "    def trim_first_last_n_seconds(df, n, freq):\n",
    "        if df.shape[0] < 6001:\n",
    "            return None\n",
    "\n",
    "        remove_indexes = list(range(0, int(n*1000/freq)))\n",
    "        df = df.drop(remove_indexes)\n",
    "\n",
    "        remove_indexes = list(range(df.shape[0] - int(n*1000/freq), df.shape[0]-1))\n",
    "        df = df.drop(remove_indexes)\n",
    "\n",
    "        return df\n",
    "\n",
    "\n",
    "    dfs_list = []\n",
    "    #features = []\n",
    "    #labels = []\n",
    "\n",
    "    bypass = True\n",
    "\n",
    "    pickle_file = Path(\"pickles/accelerometer_features.pickle\")\n",
    "\n",
    "    if pickle_file.exists() and not ignore_pickle:\n",
    "        print(\"Found pickle files for accelerometer\")\n",
    "\n",
    "        features = pickle.load(open(\"pickles/accelerometer_features.pickle\", \"rb\"))\n",
    "        labels = pickle.load(open(\"pickles/accelerometer_labels.pickle\", \"rb\"))\n",
    "        dfs_list = pickle.load(open(\"pickles/accelerometer_dfs_list.pickle\", \"rb\"))\n",
    "\n",
    "    else:\n",
    "\n",
    "        for root, dirs, files in os.walk(in_dir):\n",
    "            path = root.split(os.sep)\n",
    "\n",
    "            for f in files:\n",
    "                print(\"/\".join(path) + \"/\" + f)\n",
    "\n",
    "                full_path = \"/\".join(path) + \"/\" + f\n",
    "\n",
    "                if \"gyroscope\" in full_path:\n",
    "                    print(\"Skip \", full_path)\n",
    "                    continue\n",
    "\n",
    "                df = pd.read_csv(full_path, header=None)\n",
    "\n",
    "                print(\"Before trimming: \", df.shape)\n",
    "\n",
    "                df = trim_first_last_n_seconds(df, trim_num_seconds, acc_freq)\n",
    "                if df is None:\n",
    "                    print(\"Continuing\")\n",
    "                    continue\n",
    "\n",
    "                print(\"After trimming: \", df.shape)\n",
    "\n",
    "                #Sample the data according to the size of the window with 50% overlap\n",
    "                for index in range(0, df.shape[0]-window_size, window_jump_steps):\n",
    "                    indexes = list(range(index, index + int(window_size)))\n",
    "\n",
    "                    window = df.iloc[indexes,:]\n",
    "\n",
    "                    X_list = window[1].tolist()\n",
    "                    Y_list = window[2].tolist()\n",
    "                    Z_list = window[3].tolist()\n",
    "\n",
    "\n",
    "                    #Generate the features for this window\n",
    "\n",
    "\n",
    "           # ****************** Time-Domain Features ************************* #\n",
    "\n",
    "                    #Mean of the signals\n",
    "                    mean_x = np.mean(X_list)\n",
    "                    mean_y = np.mean(Y_list)\n",
    "                    mean_z = np.mean(Z_list)\n",
    "\n",
    "                    #Variance of the signals\n",
    "                    var_x = np.var(X_list)\n",
    "                    var_y = np.var(Y_list)\n",
    "                    var_z = np.var(Z_list)\n",
    "\n",
    "                    #Number of peaks in the signals\n",
    "                    #num_peaks_x = number_of_peaks(X_list)\n",
    "                    #num_peaks_y = number_of_peaks(Y_list)\n",
    "                    #num_peaks_z = number_of_peaks(Z_list)            \n",
    "\n",
    "                    #Median of the signals\n",
    "                    median_x = np.ma.median(X_list)\n",
    "                    median_y = np.ma.median(Y_list)\n",
    "                    median_z = np.ma.median(Z_list)\n",
    "\n",
    "                    #Standard Deviation of the signals\n",
    "                    std_x = np.std(X_list)\n",
    "                    std_y = np.std(Y_list)\n",
    "                    std_z = np.std(Z_list)\n",
    "\n",
    "                    #Compute Signal Magnitude Area\n",
    "                    signal_mag_area = Signal_magnitude_area(X_list, Y_list, Z_list)\n",
    "\n",
    "                    #Maximum and Minimum values and their indexes\n",
    "                    max_x = max(X_list)\n",
    "                    #max_index_x = X_list.index(max_x)               \n",
    "                    min_x = min(X_list)\n",
    "                    #min_index_x = X_list.index(min_x)\n",
    "\n",
    "                    max_y = max(Y_list)\n",
    "                   #max_index_y = Y_list.index(max_y)              \n",
    "                    min_y = min(Y_list)\n",
    "                    #min_index_y = Y_list.index(min_y)               \n",
    "\n",
    "                    max_z = max(Z_list)\n",
    "                    #max_index_z = Z_list.index(max_z)             \n",
    "                    min_z = min(Z_list)\n",
    "                    #min_index_z = Z_list.index(min_z)\n",
    "\n",
    "\n",
    "                    #Power of X,Y and Z signals             \n",
    "                    power_x = Power(X_list)\n",
    "                    power_y = Power(Y_list)\n",
    "                    power_z = Power(Z_list)\n",
    "\n",
    "\n",
    "                    #Skewness and Kurtosis\n",
    "                    skew_x = skew(X_list)\n",
    "                    skew_y = skew(Y_list)\n",
    "                    skew_z = skew(Z_list)\n",
    "\n",
    "                    kurtosis_x = kurtosis(X_list)                \n",
    "                    kurtosis_y = kurtosis(Y_list)\n",
    "                    kurtosis_z = kurtosis(Z_list)\n",
    "\n",
    "\n",
    "                    #Entropy of the signals (Can experiment with different types of Entropy)\n",
    "                    entropy_x = ent.shannon_entropy(X_list)\n",
    "                    entropy_y = ent.shannon_entropy(Y_list)\n",
    "                    entropy_z = ent.shannon_entropy(Z_list)\n",
    "\n",
    "\n",
    "                    #Interquartile range of the signals\n",
    "                    iqr_x = iqr(X_list)\n",
    "                    iqr_y = iqr(Y_list)\n",
    "                    iqr_z = iqr(Z_list)\n",
    "\n",
    "\n",
    "                    #Cross Correlation \n",
    "                    corr_x_y = np.correlate(X_list, Y_list)[0]\n",
    "                    corr_y_z = np.correlate(Y_list, Z_list)[0]\n",
    "                    corr_x_z = np.correlate(X_list, Z_list)[0]\n",
    "\n",
    "\n",
    "                    \n",
    "                    #Pitch and Roll Information (for rotation)\n",
    "                    roll = []\n",
    "                    pitch = []\n",
    "                    for index in range(0,len(X_list)):                       \n",
    "                        roll.append(math.atan2(Y_list[index]/9.81, Z_list[index]/9.81) * 57.3)\n",
    "                        pitch.append(math.atan2(X_list[index]/9.81, Z_list[index]/9.81) * 57.3)\n",
    "                    \n",
    "                    #Mean of the roll and pitch\n",
    "                    mean_roll = np.mean(roll)\n",
    "                    mean_pitch = np.mean(pitch)\n",
    "                    \n",
    "                    #RMS of roll and pitch\n",
    "                    #rms_roll = np.sqrt(np.mean(roll**2))\n",
    "                    rms_roll = np.sqrt(np.mean([x**2 for x in roll]))\n",
    "                    rms_pitch = np.sqrt(np.mean([x**2 for x in pitch]))            \n",
    "                    #rms_pitch = np.sqrt(np.mean(pitch**2))\n",
    "                                      \n",
    "                    #Zero Crossing Rate for roll and pitch\n",
    "                    frame = roll\n",
    "                    count = len(frame)\n",
    "                    countZ = np.sum(np.abs(np.diff(np.sign(frame)))) / 2\n",
    "                    zcr_roll = np.float64(countZ) / np.float64(count-1.0)\n",
    "                    \n",
    "                    frame = pitch\n",
    "                    count = len(frame)\n",
    "                    countZ = np.sum(np.abs(np.diff(np.sign(frame)))) / 2\n",
    "                    zcr_pitch = np.float64(countZ) / np.float64(count-1.0)\n",
    "                    \n",
    "\n",
    "        # ****************** Frequency-Domain Features ************************* #\n",
    "\n",
    "\n",
    "                    coeff_X = np.fft.fft(X_list)\n",
    "                    coeff_Y = np.fft.fft(Y_list)\n",
    "                    coeff_Z = np.fft.fft(Z_list)\n",
    "\n",
    "\n",
    "                    #Normalized FFT coefficients\n",
    "                    fft_x = LA.norm(coeff_X)              \n",
    "                    fft_y = LA.norm(coeff_Y)   \n",
    "                    fft_z = LA.norm(coeff_Z)  \n",
    "\n",
    "\n",
    "                    #Energy in the frequency Domain\n",
    "                    Energy_x = sum(abs(coeff_X**2))/len(X_list)\n",
    "                    #sum(abs(coeff_X)**2)/len(x1)\n",
    "                    Energy_y = sum(abs(coeff_Y**2))/len(Y_list)\n",
    "                    Energy_z = sum(abs(coeff_Z**2))/len(Z_list)\n",
    "\n",
    "\n",
    "                    #Store the features\n",
    "                    window_feature = []\n",
    "                    window_feature.append(mean_x)\n",
    "                    window_feature.append(mean_y)\n",
    "                    window_feature.append(mean_z)\n",
    "\n",
    "                    window_feature.append(var_x)\n",
    "                    window_feature.append(var_y)\n",
    "                    window_feature.append(var_z)\n",
    "\n",
    "                    window_feature.append(median_x)\n",
    "                    window_feature.append(median_y)\n",
    "                    window_feature.append(median_z)\n",
    "\n",
    "                    window_feature.append(std_x)\n",
    "                    window_feature.append(std_y)\n",
    "                    window_feature.append(std_z)\n",
    "\n",
    "\n",
    "                    window_feature.append(signal_mag_area)\n",
    "\n",
    "                    window_feature.append(max_x)\n",
    "                    #window_feature.append(max_index_x)\n",
    "                    window_feature.append(min_x)\n",
    "                    #window_feature.append(min_index_x)\n",
    "\n",
    "                    window_feature.append(max_y)\n",
    "                    #window_feature.append(max_index_y)\n",
    "                    window_feature.append(min_y)\n",
    "                    #window_feature.append(min_index_y)\n",
    "\n",
    "                    window_feature.append(max_z)\n",
    "                    #window_feature.append(max_index_z)\n",
    "                    window_feature.append(min_z)\n",
    "                    #window_feature.append(min_index_z)\n",
    "\n",
    "                    window_feature.append(power_x)\n",
    "                    window_feature.append(power_y)\n",
    "                    window_feature.append(power_z)\n",
    "\n",
    "                    window_feature.append(skew_x)\n",
    "                    window_feature.append(kurtosis_x) \n",
    "\n",
    "                    window_feature.append(skew_y)\n",
    "                    window_feature.append(kurtosis_y) \n",
    "\n",
    "                    window_feature.append(skew_z)\n",
    "                    window_feature.append(kurtosis_z) \n",
    "\n",
    "                    window_feature.append(entropy_x)\n",
    "                    window_feature.append(entropy_y)\n",
    "                    window_feature.append(entropy_z)\n",
    "\n",
    "                    window_feature.append(iqr_x)\n",
    "                    window_feature.append(iqr_y)\n",
    "                    window_feature.append(iqr_z)\n",
    "\n",
    "                    window_feature.append(corr_x_y)\n",
    "                    window_feature.append(corr_y_z)\n",
    "                    window_feature.append(corr_x_z)\n",
    "                    \n",
    "                    window_feature.append(mean_roll)\n",
    "                    window_feature.append(mean_pitch)\n",
    "                    window_feature.append(rms_roll)\n",
    "                    window_feature.append(rms_pitch)\n",
    "                    \n",
    "                    window_feature.append(zcr_roll)\n",
    "                    window_feature.append(zcr_pitch)\n",
    "\n",
    "                    window_feature.append(fft_x)\n",
    "                    window_feature.append(fft_y)\n",
    "                    window_feature.append(fft_z)\n",
    "\n",
    "                    window_feature.append(Energy_x)\n",
    "                    window_feature.append(Energy_y)\n",
    "                    window_feature.append(Energy_z)\n",
    "\n",
    "                    #window_feature.append(num_peaks_x)\n",
    "                    #window_feature.append(num_peaks_y)\n",
    "                    #window_feature.append(num_peaks_z)\n",
    "\n",
    "                    #scale = preprocessing.minmax_scale(data, feature_range=(-0.5, 0.5))\n",
    "\n",
    "                    features.append(window_feature)\n",
    "\n",
    "                    #Store the label\n",
    "                    labels.append(df[5].iloc[1])\n",
    "\n",
    "                dfs_list.append(df)\n",
    "\n",
    "        dfs = pd.concat(dfs_list)\n",
    "\n",
    "        if not ignore_pickle:\n",
    "\n",
    "            pickle.dump(features, open(\"pickles/accelerometer_features.pickle\", \"wb\"), protocol=2)\n",
    "            pickle.dump(labels, open(\"pickles/accelerometer_labels.pickle\", \"wb\"), protocol=2)\n",
    "            pickle.dump(dfs_list, open(\"pickles/accelerometer_dfs_list.pickle\", \"wb\"), protocol=2)\n",
    "\n",
    "    features = np.asarray(features)\n",
    "    labels = np.asarray(labels)\n",
    "    \n",
    "    return features, labels"
   ]
  },
  {
   "cell_type": "code",
   "execution_count": 5,
   "metadata": {},
   "outputs": [
    {
     "name": "stdout",
     "output_type": "stream",
     "text": [
      "('Window_size, Window_jump_steps: ', 1000, 500)\n",
      "Found pickle files for accelerometer\n",
      "('Window_size, Window_jump_steps: ', 1000, 500)\n",
      "test3/0_1_android.sensor.accelerometer.data.csv\n",
      "('Before trimming: ', (50530, 6))\n",
      "('After trimming: ', (45531, 6))\n",
      "test3/0_4_android.sensor.gyroscope.data.csv\n",
      "('Skip ', 'test3/0_4_android.sensor.gyroscope.data.csv')\n",
      "test3/10_1_android.sensor.accelerometer.data.csv\n",
      "('Before trimming: ', (60055, 6))\n",
      "('After trimming: ', (55056, 6))\n",
      "test3/10_4_android.sensor.gyroscope.data.csv\n",
      "('Skip ', 'test3/10_4_android.sensor.gyroscope.data.csv')\n",
      "test3/11_1_android.sensor.accelerometer.data.csv\n",
      "('Before trimming: ', (49816, 6))\n",
      "('After trimming: ', (44817, 6))\n",
      "test3/11_4_android.sensor.gyroscope.data.csv\n",
      "('Skip ', 'test3/11_4_android.sensor.gyroscope.data.csv')\n",
      "test3/12_1_android.sensor.accelerometer.data.csv\n",
      "('Before trimming: ', (60027, 6))\n",
      "('After trimming: ', (55028, 6))\n",
      "test3/12_4_android.sensor.gyroscope.data.csv\n",
      "('Skip ', 'test3/12_4_android.sensor.gyroscope.data.csv')\n",
      "test3/13_1_android.sensor.accelerometer.data.csv\n",
      "('Before trimming: ', (56395, 6))\n",
      "('After trimming: ', (51396, 6))\n",
      "test3/13_4_android.sensor.gyroscope.data.csv\n",
      "('Skip ', 'test3/13_4_android.sensor.gyroscope.data.csv')\n",
      "test3/14_1_android.sensor.accelerometer.data.csv\n",
      "('Before trimming: ', (60088, 6))\n",
      "('After trimming: ', (55089, 6))\n",
      "test3/14_4_android.sensor.gyroscope.data.csv\n",
      "('Skip ', 'test3/14_4_android.sensor.gyroscope.data.csv')\n",
      "test3/15_1_android.sensor.accelerometer.data.csv\n",
      "('Before trimming: ', (44307, 6))\n",
      "('After trimming: ', (39308, 6))\n",
      "test3/15_4_android.sensor.gyroscope.data.csv\n",
      "('Skip ', 'test3/15_4_android.sensor.gyroscope.data.csv')\n",
      "test3/16_1_android.sensor.accelerometer.data.csv\n",
      "('Before trimming: ', (59987, 6))\n",
      "('After trimming: ', (54988, 6))\n",
      "test3/16_4_android.sensor.gyroscope.data.csv\n",
      "('Skip ', 'test3/16_4_android.sensor.gyroscope.data.csv')\n",
      "test3/1_1_android.sensor.accelerometer.data.csv\n",
      "('Before trimming: ', (73952, 6))\n",
      "('After trimming: ', (68953, 6))\n",
      "test3/1_4_android.sensor.gyroscope.data.csv\n",
      "('Skip ', 'test3/1_4_android.sensor.gyroscope.data.csv')\n",
      "test3/2_1_android.sensor.accelerometer.data.csv\n",
      "('Before trimming: ', (49689, 6))\n",
      "('After trimming: ', (44690, 6))\n",
      "test3/2_4_android.sensor.gyroscope.data.csv\n",
      "('Skip ', 'test3/2_4_android.sensor.gyroscope.data.csv')\n",
      "test3/3_1_android.sensor.accelerometer.data.csv\n",
      "('Before trimming: ', (46894, 6))\n",
      "('After trimming: ', (41895, 6))\n",
      "test3/3_4_android.sensor.gyroscope.data.csv\n",
      "('Skip ', 'test3/3_4_android.sensor.gyroscope.data.csv')\n",
      "test3/4_1_android.sensor.accelerometer.data.csv\n",
      "('Before trimming: ', (5861, 6))\n",
      "Continuing\n",
      "test3/4_4_android.sensor.gyroscope.data.csv\n",
      "('Skip ', 'test3/4_4_android.sensor.gyroscope.data.csv')\n",
      "test3/5_1_android.sensor.accelerometer.data.csv\n",
      "('Before trimming: ', (59648, 6))\n",
      "('After trimming: ', (54649, 6))\n",
      "test3/5_4_android.sensor.gyroscope.data.csv\n",
      "('Skip ', 'test3/5_4_android.sensor.gyroscope.data.csv')\n",
      "test3/6_1_android.sensor.accelerometer.data.csv\n",
      "('Before trimming: ', (59888, 6))\n",
      "('After trimming: ', (54889, 6))\n",
      "test3/6_4_android.sensor.gyroscope.data.csv\n",
      "('Skip ', 'test3/6_4_android.sensor.gyroscope.data.csv')\n",
      "test3/7_1_android.sensor.accelerometer.data.csv\n",
      "('Before trimming: ', (59688, 6))\n",
      "('After trimming: ', (54689, 6))\n",
      "test3/7_4_android.sensor.gyroscope.data.csv\n",
      "('Skip ', 'test3/7_4_android.sensor.gyroscope.data.csv')\n",
      "test3/8_1_android.sensor.accelerometer.data.csv\n",
      "('Before trimming: ', (60167, 6))\n",
      "('After trimming: ', (55168, 6))\n",
      "test3/8_4_android.sensor.gyroscope.data.csv\n",
      "('Skip ', 'test3/8_4_android.sensor.gyroscope.data.csv')\n",
      "test3/9_1_android.sensor.accelerometer.data.csv\n",
      "('Before trimming: ', (59888, 6))\n",
      "('After trimming: ', (54889, 6))\n",
      "test3/9_4_android.sensor.gyroscope.data.csv\n",
      "('Skip ', 'test3/9_4_android.sensor.gyroscope.data.csv')\n",
      "(11732, 49)\n",
      "(1638, 49)\n"
     ]
    }
   ],
   "source": [
    "train = True\n",
    "test = True\n",
    "\n",
    "test_dir = 'test3'\n",
    "train_dir = 'data_3_8_2018'\n",
    "\n",
    "if train:\n",
    "    features = []\n",
    "    labels = []\n",
    "    features, labels = compute_accelerometer(train_dir, features, labels, ignore_pickle=False)\n",
    "    \n",
    "if test:\n",
    "    test_features = []\n",
    "    test_labels = []\n",
    "    test_features, test_labels = compute_accelerometer(test_dir, test_features, test_labels, ignore_pickle=True)\n",
    "\n",
    "print features.shape\n",
    "print test_features.shape"
   ]
  },
  {
   "cell_type": "code",
   "execution_count": 7,
   "metadata": {
    "collapsed": true
   },
   "outputs": [],
   "source": [
    "labels_ = labels\n",
    "test_labels_ = test_labels"
   ]
  },
  {
   "cell_type": "code",
   "execution_count": 8,
   "metadata": {},
   "outputs": [
    {
     "name": "stdout",
     "output_type": "stream",
     "text": [
      "(11732, 49)\n",
      "(11732,)\n",
      "(1638, 49)\n",
      "(1638,)\n"
     ]
    }
   ],
   "source": [
    "print(features.shape)\n",
    "print(labels.shape)\n",
    "\n",
    "print(test_features.shape)\n",
    "print(test_labels.shape)\n",
    "\n",
    "labels = ['not_walking' if not x=='walking' else 'walking' for x in labels]\n",
    "test_labels = ['not_walking' if not x=='walking' else 'walking' for x in test_labels]"
   ]
  },
  {
   "cell_type": "code",
   "execution_count": 10,
   "metadata": {},
   "outputs": [
    {
     "name": "stdout",
     "output_type": "stream",
     "text": [
      "['not_walking' 'walking']\n"
     ]
    }
   ],
   "source": [
    "print(np.unique(labels))"
   ]
  },
  {
   "cell_type": "code",
   "execution_count": 11,
   "metadata": {},
   "outputs": [
    {
     "name": "stdout",
     "output_type": "stream",
     "text": [
      "['not_walking' 'walking']\n"
     ]
    },
    {
     "data": {
      "text/plain": [
       "(array([8584.,    0.,    0.,    0.,    0.,    0.,    0.,    0.,    0.,\n",
       "        3148.]),\n",
       " array([0. , 0.1, 0.2, 0.3, 0.4, 0.5, 0.6, 0.7, 0.8, 0.9, 1. ]),\n",
       " <a list of 10 Patch objects>)"
      ]
     },
     "execution_count": 11,
     "metadata": {},
     "output_type": "execute_result"
    },
    {
     "data": {
      "image/png": "[encoded data removed]",
      "text/plain": [
       "<matplotlib.figure.Figure at 0x108a5a510>"
      ]
     },
     "metadata": {},
     "output_type": "display_data"
    }
   ],
   "source": [
    "le = preprocessing.LabelEncoder()\n",
    "y = le.fit_transform(labels)\n",
    "\n",
    "print(le.classes_)\n",
    "\n",
    "plt.hist(y)"
   ]
  },
  {
   "cell_type": "markdown",
   "metadata": {},
   "source": [
    "# Compute features for accelerometer and gyrometer"
   ]
  },
  {
   "cell_type": "code",
   "execution_count": null,
   "metadata": {
    "collapsed": true
   },
   "outputs": [],
   "source": [
    "\n",
    "in_dir = \"data_3_4_2018\"\n",
    "\n",
    "trim_num_seconds = 10\n",
    "acc_freq = 4\n",
    "window_num_seconds = 4 #seconds\n",
    "steps_per_sec = int(1000/acc_freq)\n",
    "window_size = int(window_num_seconds*steps_per_sec)\n",
    "window_step = 2 #seconds\n",
    "window_jump_steps = int(window_step*steps_per_sec)\n",
    "\n",
    "print(\"Window_size, Window_jump_steps: \", window_size, window_jump_steps)\n",
    "\n",
    "def number_of_peaks(window):\n",
    "    indexes = find_peaks_cwt(window, np.arange(1, len(window)))\n",
    "\n",
    "    return len(indexes)\n",
    "\n",
    "#this function assumes that records are evenly spaced\n",
    "def trim_first_last_n_seconds(df, n, freq):\n",
    "    if df.shape[0] < 6001:\n",
    "        return None\n",
    "    \n",
    "    remove_indexes = list(range(0, int(n*1000/freq)))\n",
    "    df = df.drop(remove_indexes)\n",
    "\n",
    "    remove_indexes = list(range(df.shape[0] - int(n*1000/freq), df.shape[0]-1))\n",
    "    df = df.drop(remove_indexes)\n",
    "    \n",
    "    return df\n",
    "    \n",
    "def combine_acc_gyro_data(df_acc, df_gyro):\n",
    "    threshold = 10\n",
    "    \n",
    "    acc_index = 0\n",
    "    gyro_index = 0\n",
    "    \n",
    "    acc_matrix = df_acc.as_matrix()\n",
    "    gyro_matrix = df_gyro.as_matrix()\n",
    "    \n",
    "    combined_list = []\n",
    "    \n",
    "    while (acc_index < df_acc.shape[0]) and (gyro_index < df_gyro.shape[0]):\n",
    "        #find next gyro_index within threshold and append the data\n",
    "        \n",
    "        acc_time = df_acc.iloc[acc_index][0]\n",
    "        gyro_time = df_gyro.iloc[gyro_index][0]\n",
    "\n",
    "        if (acc_time < gyro_time):\n",
    "            while (acc_index < df_acc.shape[0]) and (gyro_time - acc_time > threshold):\n",
    "                acc_time = acc_matrix[acc_index][0] #df_acc.iloc[acc_index][0]\n",
    "                acc_index += 1\n",
    "        else:\n",
    "            while (gyro_index < df_gyro.shape[0]) and (acc_time - gyro_time > threshold):\n",
    "                gyro_time = gyro_matrix[gyro_index][0] #df_gyro.iloc[gyro_index][0]\n",
    "                gyro_index += 1\n",
    "            \n",
    "        combined_list.append(np.concatenate((acc_matrix[acc_index][:4], gyro_matrix[gyro_index][1:6]), axis=0))\n",
    "        acc_index += 1\n",
    "        gyro_index += 1\n",
    "            \n",
    "    return combined_list\n",
    "\n",
    "\n",
    "dfs_list = []\n",
    "features = []\n",
    "labels = []\n",
    "\n",
    "pickle_file = Path(\"pickles/acc_gyro_features.pickle\")\n",
    "\n",
    "if pickle_file.exists():\n",
    "    print(\"Found pickle files for accelerometer and gyroscope features combined\")\n",
    "    \n",
    "    features = pickle.load(open(\"pickles/acc_gyro_features.pickle\", \"rb\"))\n",
    "    labels = pickle.load(open(\"pickles/acc_gyro_labels.pickle\", \"rb\"))\n",
    "    dfs_list = pickle.load(open(\"pickles/acc_gyro_dfs_list.pickle\", \"rb\"))\n",
    "    \n",
    "else:\n",
    "\n",
    "    for root, dirs, files in os.walk(in_dir):\n",
    "        path = root.split(os.sep)\n",
    "\n",
    "        for f in files:\n",
    "\n",
    "            if 'accelerometer' in f:\n",
    "                accelerometer_path = \"/\".join(path) + \"/\" + f\n",
    "                print(accelerometer_path)\n",
    "\n",
    "                first_ = f.find(\"_\")\n",
    "                g = f[0:first_] + \"_4\" + f[first_+2:]\n",
    "                gyroscope_path = \"/\".join(path) + \"/\" + g.replace(\"accelerometer\",\"gyroscope\")\n",
    "                print(gyroscope_path)\n",
    "\n",
    "                df_acc = pd.read_csv(accelerometer_path, header=None)\n",
    "                df_gyro = pd.read_csv(gyroscope_path, header=None)\n",
    "\n",
    "                combined_list = combine_acc_gyro_data(df_acc, df_gyro)\n",
    "                combined_numpy = np.array(combined_list)\n",
    "\n",
    "                combined_df = pd.DataFrame(data=combined_numpy)\n",
    "\n",
    "                print(\"Before trimming: \", combined_df.shape)\n",
    "\n",
    "                combined_df = trim_first_last_n_seconds(combined_df, trim_num_seconds, acc_freq)\n",
    "                if combined_df is None:\n",
    "                    print(\"Continuing\")\n",
    "                    continue\n",
    "\n",
    "                print(\"After trimming: \", combined_df.shape)\n",
    "\n",
    "                #Sample the data according to the size of the window with 50% overlap\n",
    "                for index in range(0, combined_df.shape[0]-window_size, window_jump_steps):\n",
    "                    indexes = list(range(index, index + int(window_size)))\n",
    "\n",
    "                    window = combined_df.iloc[indexes,:]\n",
    "\n",
    "                    #Generate the features for this window\n",
    "                    acc_mean_x = np.mean(window[1].tolist())\n",
    "                    acc_mean_y = np.mean(window[2].tolist())\n",
    "                    acc_mean_z = np.mean(window[3].tolist())\n",
    "\n",
    "                    acc_var_x = np.var(window[1].tolist())\n",
    "                    acc_var_y = np.var(window[2].tolist())\n",
    "                    acc_var_z = np.var(window[3].tolist())\n",
    "\n",
    "#                     acc_num_peaks_x = number_of_peaks(window[1].tolist())\n",
    "#                     acc_num_peaks_y = number_of_peaks(window[2].tolist())\n",
    "#                     acc_num_peaks_z = number_of_peaks(window[3].tolist())            \n",
    "\n",
    "                    window_feature = []\n",
    "\n",
    "                    window_feature.append(acc_mean_x)\n",
    "                    window_feature.append(acc_mean_y)\n",
    "                    window_feature.append(acc_mean_z)\n",
    "                    window_feature.append(acc_var_x)\n",
    "                    window_feature.append(acc_var_y)\n",
    "                    window_feature.append(acc_var_z)\n",
    "#                     window_feature.append(acc_num_peaks_x)\n",
    "#                     window_feature.append(acc_num_peaks_y)\n",
    "#                     window_feature.append(acc_num_peaks_z)\n",
    "\n",
    "\n",
    "                    gyro_mean_x = np.mean(window[4].tolist())\n",
    "                    gyro_mean_y = np.mean(window[5].tolist())\n",
    "                    gyro_mean_z = np.mean(window[6].tolist())\n",
    "\n",
    "                    gyro_var_x = np.var(window[4].tolist())\n",
    "                    gyro_var_y = np.var(window[5].tolist())\n",
    "                    gyro_var_z = np.var(window[6].tolist())\n",
    "\n",
    "#                     gyro_num_peaks_x = number_of_peaks(window[4].tolist())\n",
    "#                     gyro_num_peaks_y = number_of_peaks(window[5].tolist())\n",
    "#                     gyro_num_peaks_z = number_of_peaks(window[6].tolist())            \n",
    "\n",
    "                    #Store the features\n",
    "                    \n",
    "                    window_feature.append(gyro_mean_x)\n",
    "                    window_feature.append(gyro_mean_y)\n",
    "                    window_feature.append(gyro_mean_z)\n",
    "                    window_feature.append(gyro_var_x)\n",
    "                    window_feature.append(gyro_var_y)\n",
    "                    window_feature.append(gyro_var_z)\n",
    "#                     window_feature.append(gyro_num_peaks_x)\n",
    "#                     window_feature.append(gyro_num_peaks_y)\n",
    "#                     window_feature.append(gyro_num_peaks_z)\n",
    "\n",
    "                    features.append(window_feature)\n",
    "\n",
    "                    #Store the label\n",
    "                    labels.append(combined_df[8].iloc[0])\n",
    "                \n",
    "                dfs_list.append(combined_df)\n",
    "            \n",
    "    dfs = pd.concat(dfs_list)\n",
    "\n",
    "    pickle.dump(features, open(\"pickles/acc_gyro_features.pickle\", \"wb\"), protocol=2)\n",
    "    pickle.dump(labels, open(\"pickles/acc_gyro_labels.pickle\", \"wb\"), protocol=2)\n",
    "    pickle.dump(dfs_list, open(\"pickles/acc_gyro_dfs_list.pickle\", \"wb\"), protocol=2)\n",
    "\n",
    "features = np.asarray(features)\n",
    "labels = np.asarray(labels)"
   ]
  },
  {
   "cell_type": "markdown",
   "metadata": {},
   "source": [
    "## Compute LSTM features for accelerometer"
   ]
  },
  {
   "cell_type": "code",
   "execution_count": null,
   "metadata": {
    "collapsed": true
   },
   "outputs": [],
   "source": [
    "trim_num_seconds = 10\n",
    "acc_freq = 4\n",
    "window_num_seconds = 4 #seconds\n",
    "steps_per_sec = int(1000/acc_freq)\n",
    "window_size = int(window_num_seconds*steps_per_sec)\n",
    "window_step = 2 #seconds\n",
    "window_jump_steps = int(window_step*steps_per_sec)\n",
    "\n",
    "print(\"Window_size, Window_jump_steps: \", window_size, window_jump_steps)\n",
    "\n",
    "dfs_list = []\n",
    "features = []\n",
    "labels = []\n",
    "\n",
    "\n",
    "#this function assumes that records are evenly spaced\n",
    "def trim_first_last_n_seconds(df, n, freq):\n",
    "    if df.shape[0] < 6001:\n",
    "        return None\n",
    "    \n",
    "    remove_indexes = list(range(0, int(n*1000/freq)))\n",
    "    df = df.drop(remove_indexes)\n",
    "\n",
    "    remove_indexes = list(range(df.shape[0] - int(n*1000/freq), df.shape[0]-1))\n",
    "    df = df.drop(remove_indexes)\n",
    "    \n",
    "    return df\n",
    "\n",
    "\n",
    "pickle_file = Path(\"pickles/lstm_acc_features.pickle\")\n",
    "\n",
    "if pickle_file.exists():\n",
    "    print(\"Found pickle files for LSTM acc and gyro\")\n",
    "    \n",
    "    features = pickle.load(open(\"pickles/lstm_acc_features.pickle\", \"rb\"))\n",
    "    labels = pickle.load(open(\"pickles/lstm_acc_labels.pickle\", \"rb\"))\n",
    "    dfs_list = pickle.load(open(\"pickles/lstm_acc_dfs_list.pickle\", \"rb\"))\n",
    "    \n",
    "else:\n",
    "\n",
    "    for root, dirs, files in os.walk(in_dir):\n",
    "        path = root.split(os.sep)\n",
    "\n",
    "        for f in files:\n",
    "\n",
    "            accelerometer_path = \"/\".join(path) + \"/\" + f\n",
    "            print(accelerometer_path)\n",
    "\n",
    "            first_ = f.find(\"_\")\n",
    "            g = f[0:first_] + \"_4\" + f[first_+2:]\n",
    "            gyroscope_path = \"/\".join(path) + \"/\" + g.replace(\"accelerometer\",\"gyroscope\")\n",
    "            print(gyroscope_path)\n",
    "\n",
    "            df_acc = pd.read_csv(accelerometer_path, header=None)\n",
    "            df_gyro = pd.read_csv(gyroscope_path, header=None)\n",
    "\n",
    "            combined_list = combine_acc_gyro_data(df_acc, df_gyro)\n",
    "            combined_numpy = np.array(combined_list)\n",
    "\n",
    "            combined_df = pd.DataFrame(data=combined_numpy)\n",
    "\n",
    "            print(\"Before trimming: \", combined_df.shape)\n",
    "\n",
    "            combined_df = trim_first_last_n_seconds(combined_df, trim_num_seconds, acc_freq)\n",
    "            if combined_df is None:\n",
    "                print(\"Continuing\")\n",
    "                continue\n",
    "\n",
    "            print(\"After trimming: \", combined_df.shape)\n",
    "\n",
    "            #Sample the data according to the size of the window with 50% overlap\n",
    "            for index in range(0, combined_df.shape[0]-window_size, window_jump_steps):\n",
    "                indexes = list(range(index, index + int(window_size)))\n",
    "\n",
    "                window = df.iloc[indexes, 1:df.shape[1]-2]\n",
    "\n",
    "                #Generate the features for this window            \n",
    "                features.append(np.asarray(window))\n",
    "\n",
    "                #Store the label\n",
    "                labels.append(df[5].iloc[0])\n",
    "\n",
    "            dfs_list.append(df)\n",
    "\n",
    "    dfs = pd.concat(dfs_list)\n",
    "    \n",
    "    pickle.dump(features, open(\"pickles/lstm_acc_features.pickle\", \"wb\"), protocol=2)\n",
    "    pickle.dump(labels, open(\"pickles/lstm_acc_labels.pickle\", \"wb\"), protocol=2)\n",
    "    pickle.dump(dfs_list, open(\"pickles/lstm_acc_dfs_list.pickle\", \"wb\"), protocol=2)\n",
    "    \n",
    "    \n",
    "features = np.asarray(features)\n",
    "labels = np.asarray(labels)    "
   ]
  },
  {
   "cell_type": "markdown",
   "metadata": {},
   "source": [
    "## Compute LSTM features for accelerometer and gyroscope"
   ]
  },
  {
   "cell_type": "code",
   "execution_count": 31,
   "metadata": {},
   "outputs": [
    {
     "name": "stdout",
     "output_type": "stream",
     "text": [
      "Window_size, Window_jump_steps:  1000 500\n",
      "Found pickle files for LSTM acc and gyro\n"
     ]
    }
   ],
   "source": [
    "trim_num_seconds = 10\n",
    "acc_freq = 4\n",
    "window_num_seconds = 4 #seconds\n",
    "steps_per_sec = int(1000/acc_freq)\n",
    "window_size = int(window_num_seconds*steps_per_sec)\n",
    "window_step = 2 #seconds\n",
    "window_jump_steps = int(window_step*steps_per_sec)\n",
    "\n",
    "print(\"Window_size, Window_jump_steps: \", window_size, window_jump_steps)\n",
    "\n",
    "dfs_list = []\n",
    "features = []\n",
    "labels = []\n",
    "\n",
    "\n",
    "#this function assumes that records are evenly spaced\n",
    "def trim_first_last_n_seconds(df, n, freq):\n",
    "    if df.shape[0] < 6001:\n",
    "        return None\n",
    "    \n",
    "    remove_indexes = list(range(0, int(n*1000/freq)))\n",
    "    df = df.drop(remove_indexes)\n",
    "\n",
    "    remove_indexes = list(range(df.shape[0] - int(n*1000/freq), df.shape[0]-1))\n",
    "    df = df.drop(remove_indexes)\n",
    "    \n",
    "    return df\n",
    "\n",
    "def combine_acc_gyro_data(df_acc, df_gyro):\n",
    "    threshold = 10\n",
    "    \n",
    "    acc_index = 0\n",
    "    gyro_index = 0\n",
    "    \n",
    "    acc_matrix = df_acc.as_matrix()\n",
    "    gyro_matrix = df_gyro.as_matrix()\n",
    "    \n",
    "    combined_list = []\n",
    "    \n",
    "    while (acc_index < df_acc.shape[0]) and (gyro_index < df_gyro.shape[0]):\n",
    "        #find next gyro_index within threshold and append the data\n",
    "        \n",
    "        acc_time = df_acc.iloc[acc_index][0]\n",
    "        gyro_time = df_gyro.iloc[gyro_index][0]\n",
    "\n",
    "        if (acc_time < gyro_time):\n",
    "            while (acc_index < df_acc.shape[0]) and (gyro_time - acc_time > threshold):\n",
    "                acc_time = acc_matrix[acc_index][0] #df_acc.iloc[acc_index][0]\n",
    "                acc_index += 1\n",
    "        else:\n",
    "            while (gyro_index < df_gyro.shape[0]) and (acc_time - gyro_time > threshold):\n",
    "                gyro_time = gyro_matrix[gyro_index][0] #df_gyro.iloc[gyro_index][0]\n",
    "                gyro_index += 1\n",
    "            \n",
    "        combined_list.append(np.concatenate((acc_matrix[acc_index][:4], gyro_matrix[gyro_index][1:6]), axis=0))\n",
    "        acc_index += 1\n",
    "        gyro_index += 1\n",
    "            \n",
    "    return combined_list\n",
    "\n",
    "\n",
    "pickle_file = Path(\"pickles/lstm_acc_gyro_features.pickle\")\n",
    "\n",
    "if pickle_file.exists():\n",
    "    print(\"Found pickle files for LSTM acc and gyro\")\n",
    "    \n",
    "    features = pickle.load(open(\"pickles/lstm_acc_gyro_features.pickle\", \"rb\"))\n",
    "    labels = pickle.load(open(\"pickles/lstm_acc_gyro_labels.pickle\", \"rb\"))\n",
    "    dfs_list = pickle.load(open(\"pickles/lstm_acc_gyro_dfs_list.pickle\", \"rb\"))\n",
    "    \n",
    "else:\n",
    "\n",
    "    for root, dirs, files in os.walk(in_dir):\n",
    "        path = root.split(os.sep)\n",
    "\n",
    "        for f in files:\n",
    "\n",
    "            if 'accelerometer' in f:\n",
    "                accelerometer_path = \"/\".join(path) + \"/\" + f\n",
    "                print(accelerometer_path)\n",
    "\n",
    "                first_ = f.find(\"_\")\n",
    "                g = f[0:first_] + \"_4\" + f[first_+2:]\n",
    "                gyroscope_path = \"/\".join(path) + \"/\" + g.replace(\"accelerometer\",\"gyroscope\")\n",
    "                print(gyroscope_path)\n",
    "\n",
    "                df_acc = pd.read_csv(accelerometer_path, header=None)\n",
    "                df_gyro = pd.read_csv(gyroscope_path, header=None)\n",
    "\n",
    "                combined_list = combine_acc_gyro_data(df_acc, df_gyro)\n",
    "                combined_numpy = np.array(combined_list)\n",
    "\n",
    "                combined_df = pd.DataFrame(data=combined_numpy)\n",
    "\n",
    "                print(\"Before trimming: \", combined_df.shape)\n",
    "\n",
    "                combined_df = trim_first_last_n_seconds(combined_df, trim_num_seconds, acc_freq)\n",
    "                if combined_df is None:\n",
    "                    print(\"Continuing\")\n",
    "                    continue\n",
    "\n",
    "                print(\"After trimming: \", combined_df.shape)\n",
    "\n",
    "                #Sample the data according to the size of the window with 50% overlap\n",
    "                for index in range(0, combined_df.shape[0]-window_size, window_jump_steps):\n",
    "                    indexes = list(range(index, index + int(window_size)))\n",
    "\n",
    "                    window = combined_df.iloc[indexes, 1:7] #,1:combined_df.shape[1]-2]\n",
    "\n",
    "                    #Generate the features for this window            \n",
    "                    features.append(np.asarray(window))\n",
    "\n",
    "                    #Store the label\n",
    "                    labels.append(combined_df[8].iloc[0])\n",
    "\n",
    "                dfs_list.append(combined_df)\n",
    "\n",
    "    dfs = pd.concat(dfs_list)\n",
    "    \n",
    "    pickle.dump(features, open(\"pickles/lstm_acc_gyro_features.pickle\", \"wb\"), protocol=2)\n",
    "    pickle.dump(labels, open(\"pickles/lstm_acc_gyro_labels.pickle\", \"wb\"), protocol=2)\n",
    "    pickle.dump(dfs_list, open(\"pickles/lstm_acc_gyro_dfs_list.pickle\", \"wb\"), protocol=2)\n",
    "    \n",
    "    \n",
    "features = np.asarray(features)\n",
    "labels = np.asarray(labels)    "
   ]
  },
  {
   "cell_type": "markdown",
   "metadata": {},
   "source": [
    "## Utility functions"
   ]
  },
  {
   "cell_type": "code",
   "execution_count": 8,
   "metadata": {
    "collapsed": true
   },
   "outputs": [],
   "source": [
    "def getModel(modelName, args):\n",
    "    \n",
    "    if modelName == 'LogisticRegression':\n",
    "        model = LogisticRegression(random_state=42)\n",
    "        \n",
    "    if modelName == 'SVC':\n",
    "        model = SVC(random_state=42, kernel=args[0], C=args[1], decision_function_shape=args[2])\n",
    "        \n",
    "    if modelName == 'DecisionTreeClassifier':\n",
    "        model = DecisionTreeClassifier(random_state=42, max_features=args[0], criterion=args[1])\n",
    "        \n",
    "    if modelName == 'RandomForestClassifier':\n",
    "        model = RandomForestClassifier(n_estimators=args[0], criterion=args[1], max_features=args[2], max_depth=args[3], oob_score=True, random_state=42)\n",
    "        \n",
    "    if modelName == 'MLPClassifier':\n",
    "        model = MLPClassifier(hidden_layer_sizes=args[0], activation=args[1], solver=args[2], random_state=42, max_iter=500)\n",
    "        \n",
    "    return model"
   ]
  },
  {
   "cell_type": "code",
   "execution_count": 9,
   "metadata": {
    "collapsed": true
   },
   "outputs": [],
   "source": [
    "\n",
    "def run_kfold(features, labels, num_splits, modelName, args=None, verbose=False):\n",
    "    \n",
    "    X = np.array(normalize(features))\n",
    "    y = np.array(labels)\n",
    "\n",
    "    kf = KFold(n_splits=num_splits, random_state=None, shuffle=True)\n",
    "    kf.get_n_splits(X)\n",
    "\n",
    "    foldAccuracy = list()\n",
    "    foldPrecision = list()\n",
    "    foldRecall = list()\n",
    "    bestModel = None\n",
    "    bestAccuracy = float(sys.maxsize) * (-1)\n",
    "\n",
    "    for train_index, test_index in kf.split(X):\n",
    "        X_train, X_test = X[train_index], X[test_index]\n",
    "        y_train, y_test = y[train_index], y[test_index]\n",
    "\n",
    "        model = getModel(modelName, args)\n",
    "\n",
    "        model.fit(X_train, y_train)\n",
    "\n",
    "        prediction = model.predict(X_test)\n",
    "\n",
    "        if verbose:\n",
    "            print(\"\\nFold: \", fold)\n",
    "            print(\"Confusion Matrix:\")\n",
    "            cm = metrics.confusion_matrix(yTest, prediction)\n",
    "            print(cm)\n",
    "            plt.matshow(cm, cmap = plt.cm.Oranges)\n",
    "            plt.title('Confusion matrix')\n",
    "            plt.colorbar()\n",
    "            plt.ylabel('True label')\n",
    "            plt.xlabel('Predicted label')\n",
    "            plt.show()\n",
    "\n",
    "        accuracy = metrics.accuracy_score(y_test, prediction)\n",
    "        precision = metrics.precision_score(y_test, prediction, average = None)\n",
    "        recall = metrics.recall_score(y_test, prediction, average = None)\n",
    "\n",
    "        foldAccuracy.append(accuracy)\n",
    "        foldPrecision.append(precision)\n",
    "        foldRecall.append(recall)\n",
    "        \n",
    "        if accuracy > bestAccuracy:\n",
    "            bestAccuracy = accuracy\n",
    "            bestModel = model\n",
    "                \n",
    "    print(\"\\nBest Accuracy: \", bestAccuracy)\n",
    "    \n",
    "    return bestModel, foldAccuracy, foldPrecision, foldRecall        "
   ]
  },
  {
   "cell_type": "code",
   "execution_count": null,
   "metadata": {
    "collapsed": true
   },
   "outputs": [],
   "source": []
  },
  {
   "cell_type": "code",
   "execution_count": 51,
   "metadata": {
    "collapsed": true
   },
   "outputs": [],
   "source": [
    "#Filter data to select some specific features from all the list of features for the model training\n",
    "\n",
    "features_to_consider = list(range(0,43)) #[0,1,2,3,4,5,6,7,8,9,10,11]\n",
    "features_new = []\n",
    "\n",
    "for feature in features:\n",
    "    \n",
    "    feat = []\n",
    "    for index in features_to_consider:\n",
    "        feat.append(feature[index])\n",
    "        \n",
    "    features_new.append(feat)\n",
    "\n",
    "features_new = np.array(features_new)"
   ]
  },
  {
   "cell_type": "code",
   "execution_count": 52,
   "metadata": {},
   "outputs": [
    {
     "data": {
      "text/plain": [
       "array([-2.67587902e+00,  2.17294647e-02,  9.13332639e+00,  7.17382979e-04,\n",
       "        1.91591425e-03,  7.78390033e-04, -2.67608980e+00,  2.39364020e-02,\n",
       "        9.12934300e+00,  2.67840060e-02,  4.37711578e-02,  2.78996422e-02,\n",
       "        1.18471063e+01, -2.58034400e+00, -2.78140970e+00,  1.57980250e-01,\n",
       "       -9.09583300e-02,  9.22508900e+00,  9.03359800e+00,  7.16104589e+00,\n",
       "        2.38808389e-03,  8.34184293e+01, -1.46472166e-01,  3.48427425e-01,\n",
       "        1.69459107e-01,  6.74286770e-02, -1.44720116e-01,  9.83166470e-01,\n",
       "        3.51260994e+00,  4.31308429e+00,  3.54646527e+00,  3.82983000e-02,\n",
       "        5.74473600e-02,  2.87240000e-02, -5.81859313e+01,  1.98473146e+02,\n",
       "       -2.44397656e+04,  2.67601306e+03,  4.88680252e+01,  9.13336900e+03,\n",
       "        7.16104589e+03,  2.38808389e+00,  8.34184293e+04])"
      ]
     },
     "execution_count": 52,
     "metadata": {},
     "output_type": "execute_result"
    }
   ],
   "source": [
    "features_new[1]"
   ]
  },
  {
   "cell_type": "markdown",
   "metadata": {},
   "source": [
    "## Logistic Regression"
   ]
  },
  {
   "cell_type": "code",
   "execution_count": 53,
   "metadata": {},
   "outputs": [
    {
     "name": "stdout",
     "output_type": "stream",
     "text": [
      "('\\nBest Accuracy: ', 0.7593360995850622)\n"
     ]
    }
   ],
   "source": [
    "num_splits = 5\n",
    "\n",
    "lrModel, lrAccuracy, lrPrecision, lrRecall = run_kfold(features_new, labels, num_splits, 'LogisticRegression')"
   ]
  },
  {
   "cell_type": "markdown",
   "metadata": {},
   "source": [
    "## SVM"
   ]
  },
  {
   "cell_type": "code",
   "execution_count": 55,
   "metadata": {},
   "outputs": [
    {
     "name": "stdout",
     "output_type": "stream",
     "text": [
      "('\\nBest Accuracy: ', 0.9130434782608695)\n"
     ]
    }
   ],
   "source": [
    "#hard margin SVM 1\n",
    "\n",
    "#kernel = 'rbf'\n",
    "#C = 1000\n",
    "#decision_function_shape = 'ovo'\n",
    "\n",
    "num_splits = 5\n",
    "args = ['rbf', 1000, 'ovo']\n",
    "\n",
    "hmSVC1Model, hmSVC1Accuracy, hmSVC1Precision, hmSVC1Recall = run_kfold(features_new, labels, num_splits, 'SVC', args)"
   ]
  },
  {
   "cell_type": "markdown",
   "metadata": {},
   "source": [
    "## Decision Tree"
   ]
  },
  {
   "cell_type": "code",
   "execution_count": 54,
   "metadata": {},
   "outputs": [
    {
     "name": "stdout",
     "output_type": "stream",
     "text": [
      "('\\nBest Accuracy: ', 0.966804979253112)\n"
     ]
    }
   ],
   "source": [
    "#decision Tree 1\n",
    "\n",
    "#max_features = 6\n",
    "#criterion = 'gini'\n",
    "\n",
    "num_splits = 5\n",
    "args = [6, 'gini']\n",
    "\n",
    "dt1Model, dt1Accuracy, dt1Precision, dt1Recall = run_kfold(features_new, labels, num_splits, 'DecisionTreeClassifier', args)"
   ]
  },
  {
   "cell_type": "markdown",
   "metadata": {},
   "source": [
    "## Random Forest"
   ]
  },
  {
   "cell_type": "code",
   "execution_count": 56,
   "metadata": {},
   "outputs": [
    {
     "name": "stderr",
     "output_type": "stream",
     "text": [
      "/anaconda/lib/python2.7/site-packages/sklearn/ensemble/forest.py:439: UserWarning: Some inputs do not have OOB scores. This probably means too few trees were used to compute any reliable oob estimates.\n",
      "  warn(\"Some inputs do not have OOB scores. \"\n",
      "/anaconda/lib/python2.7/site-packages/sklearn/ensemble/forest.py:444: RuntimeWarning: invalid value encountered in true_divide\n",
      "  predictions[k].sum(axis=1)[:, np.newaxis])\n"
     ]
    },
    {
     "name": "stdout",
     "output_type": "stream",
     "text": [
      "('\\nBest Accuracy: ', 0.9751552795031055)\n"
     ]
    }
   ],
   "source": [
    "#random Forest Classification 1\n",
    "\n",
    "#n_estimators = 20\n",
    "#criterion = gini\n",
    "#max_features = 6\n",
    "#max_depth = 5\n",
    "\n",
    "num_splits = 5\n",
    "args = [20, 'gini', 6, 8]\n",
    "\n",
    "rf1Model, rf1Accuracy, rf1Precision, rf1Recall = run_kfold(features_new, labels, num_splits, 'RandomForestClassifier', args)"
   ]
  },
  {
   "cell_type": "markdown",
   "metadata": {},
   "source": [
    "## MLP classifier"
   ]
  },
  {
   "cell_type": "code",
   "execution_count": 57,
   "metadata": {},
   "outputs": [
    {
     "name": "stdout",
     "output_type": "stream",
     "text": [
      "('\\nBest Accuracy: ', 0.9626556016597511)\n"
     ]
    }
   ],
   "source": [
    "#Multi Layer Perceptron Classification \n",
    "\n",
    "#hidden_layer_sizes = 50\n",
    "#activation = tanh\n",
    "#solver = lbfgs\n",
    "\n",
    "num_splits = 5\n",
    "args = [(50,100), 'tanh', 'lbfgs']\n",
    "\n",
    "mlp2Model, mlp2Accuracy, mlp2Precision, mlp2Recall = run_kfold(features_new, labels, num_splits, 'MLPClassifier', args)"
   ]
  },
  {
   "cell_type": "markdown",
   "metadata": {},
   "source": []
  },
  {
   "cell_type": "code",
   "execution_count": null,
   "metadata": {
    "collapsed": true
   },
   "outputs": [],
   "source": []
  },
  {
   "cell_type": "markdown",
   "metadata": {},
   "source": [
    "## LSTM"
   ]
  },
  {
   "cell_type": "code",
   "execution_count": 34,
   "metadata": {
    "collapsed": true
   },
   "outputs": [],
   "source": [
    "\n",
    "def run_lstm(features, labels, train_test_split_ratio, batch_size, epochs):\n",
    "\n",
    "    X = features\n",
    "\n",
    "    y = np.array(labels)\n",
    "    le = preprocessing.LabelEncoder()\n",
    "    y = le.fit_transform(y)\n",
    "\n",
    "    y = y.reshape(-1,1)\n",
    "    ohe = OneHotEncoder(sparse=False)\n",
    "    y = ohe.fit_transform(y)\n",
    "\n",
    "    X_train, X_test, y_train, y_test = train_test_split(X, y, test_size=train_test_split_ratio, random_state=42)\n",
    "\n",
    "    model = Sequential()\n",
    "    model.add(LSTM(100, input_shape=(X_train[0].shape[0], X_train[0].shape[1]), return_sequences=True))\n",
    "    model.add(LSTM(100))\n",
    "    model.add(Dense(4, activation='softmax'))\n",
    "    model.compile(loss='categorical_crossentropy', optimizer='adam', metrics=['accuracy'])\n",
    "\n",
    "    model.summary()\n",
    "\n",
    "    model.fit(X_train, y_train, batch_size=batch_size, epochs=epochs)\n",
    "\n",
    "    #Evaluate the model\n",
    "    scores = model.evaluate(X_test, y_test, verbose=0)\n",
    "    predicted_labels = model.predict(X_test)\n",
    "\n",
    "    print(\"Accuracy: \", scores[1]*100)\n",
    "\n",
    "    def get_hot_value(my_list):\n",
    "        max_val = max(my_list)\n",
    "        return [int(item == max_val) for item in my_list]\n",
    "\n",
    "    hot_list = [get_hot_value(sublist) for sublist in predicted_labels]\n",
    "\n",
    "    t  = np.array(y_test)\n",
    "    p  = np.array(hot_list)\n",
    "    t = np.argmax(t, axis=1)\n",
    "    p = np.argmax(p, axis=1)\n",
    "\n",
    "    print(\"Precision: \", precision_score(t, p, average=None))\n",
    "    "
   ]
  },
  {
   "cell_type": "code",
   "execution_count": null,
   "metadata": {
    "collapsed": true
   },
   "outputs": [],
   "source": [
    "train_test_split_ratio = 0.1\n",
    "batch_size = 300\n",
    "epochs = 100\n",
    "\n",
    "run_lstm(features, labels, train_test_split_ratio, batch_size, epochs)"
   ]
  },
  {
   "cell_type": "code",
   "execution_count": null,
   "metadata": {
    "collapsed": true
   },
   "outputs": [],
   "source": []
  },
  {
   "cell_type": "code",
   "execution_count": 58,
   "metadata": {
    "collapsed": true
   },
   "outputs": [],
   "source": [
    "test_dir = \"test2\""
   ]
  },
  {
   "cell_type": "code",
   "execution_count": 76,
   "metadata": {},
   "outputs": [
    {
     "name": "stdout",
     "output_type": "stream",
     "text": [
      "(1638, 43)\n",
      "(1638,)\n"
     ]
    }
   ],
   "source": [
    "print(test_features.shape)\n",
    "print(test_labels.shape)"
   ]
  },
  {
   "cell_type": "code",
   "execution_count": 12,
   "metadata": {
    "collapsed": true
   },
   "outputs": [],
   "source": [
    "#Filter data to select some specific features from all the list of features for the model training\n",
    "\n",
    "features_to_consider = list(range(0,12)) #[0,1,2,3,4,5,6,7,8,9,10,11]\n",
    "test_features_new = []\n",
    "\n",
    "for feature in test_features:\n",
    "    \n",
    "    feat = []\n",
    "    for index in features_to_consider:\n",
    "        feat.append(feature[index])\n",
    "        \n",
    "    test_features_new.append(feat)\n",
    "\n",
    "test_features_new = np.array(test_features_new)"
   ]
  },
  {
   "cell_type": "code",
   "execution_count": 13,
   "metadata": {},
   "outputs": [
    {
     "name": "stdout",
     "output_type": "stream",
     "text": [
      "(1638, 12)\n",
      "(1638,)\n"
     ]
    }
   ],
   "source": [
    "print(test_features_new.shape)\n",
    "print(test_labels.shape)"
   ]
  },
  {
   "cell_type": "code",
   "execution_count": 10,
   "metadata": {},
   "outputs": [
    {
     "name": "stdout",
     "output_type": "stream",
     "text": [
      "['laying_down' 'sitting' 'standing' 'walking']\n"
     ]
    },
    {
     "data": {
      "text/plain": [
       "(array([823.,   0.,   0., 460.,   0.,   0., 170.,   0.,   0., 185.]),\n",
       " array([0. , 0.3, 0.6, 0.9, 1.2, 1.5, 1.8, 2.1, 2.4, 2.7, 3. ]),\n",
       " <a list of 10 Patch objects>)"
      ]
     },
     "execution_count": 10,
     "metadata": {},
     "output_type": "execute_result"
    },
    {
     "data": {
      "image/png": "[encoded data removed]",
      "text/plain": [
       "<matplotlib.figure.Figure at 0x11affe310>"
      ]
     },
     "metadata": {},
     "output_type": "display_data"
    }
   ],
   "source": [
    "le = preprocessing.LabelEncoder()\n",
    "y = le.fit_transform(test_labels)\n",
    "\n",
    "print(le.classes_)\n",
    "\n",
    "plt.hist(y)"
   ]
  },
  {
   "cell_type": "code",
   "execution_count": 14,
   "metadata": {
    "collapsed": true
   },
   "outputs": [],
   "source": [
    "def plot_confusion_matrix(cm, classes,\n",
    "                          normalize=False,\n",
    "                          title='Confusion matrix',\n",
    "                          cmap=plt.cm.Blues):\n",
    "    \"\"\"\n",
    "    This function prints and plots the confusion matrix.\n",
    "    Normalization can be applied by setting `normalize=True`.\n",
    "    \"\"\"\n",
    "    if normalize:\n",
    "        cm = cm.astype('float') / cm.sum(axis=1)[:, np.newaxis]\n",
    "        print(\"Normalized confusion matrix\")\n",
    "    else:\n",
    "        print('Confusion matrix, without normalization')\n",
    "\n",
    "    print(cm)\n",
    "\n",
    "    plt.imshow(cm, interpolation='nearest', cmap=cmap)\n",
    "    plt.title(title)\n",
    "    plt.colorbar()\n",
    "    tick_marks = np.arange(len(classes))\n",
    "    plt.xticks(tick_marks, classes, rotation=45)\n",
    "    plt.yticks(tick_marks, classes)\n",
    "\n",
    "    fmt = '.2f' if normalize else 'd'\n",
    "    thresh = cm.max() / 2.\n",
    "    for i, j in itertools.product(range(cm.shape[0]), range(cm.shape[1])):\n",
    "        plt.text(j, i, format(cm[i, j], fmt),\n",
    "                 horizontalalignment=\"center\",\n",
    "                 color=\"white\" if cm[i, j] > thresh else \"black\")\n",
    "\n",
    "    plt.tight_layout()\n",
    "    plt.ylabel('True label')\n",
    "    plt.xlabel('Predicted label')\n",
    "    \n",
    "    plt.show()"
   ]
  },
  {
   "cell_type": "code",
   "execution_count": 12,
   "metadata": {},
   "outputs": [
    {
     "name": "stdout",
     "output_type": "stream",
     "text": [
      "(11732, 49)\n",
      "(1638, 49)\n"
     ]
    }
   ],
   "source": [
    "print features.shape\n",
    "print test_features.shape"
   ]
  },
  {
   "cell_type": "code",
   "execution_count": 139,
   "metadata": {
    "collapsed": true
   },
   "outputs": [],
   "source": [
    "#concat features_new and test_features_new\n",
    "\n",
    "features_new_modified = features\n",
    "\n",
    "feat = np.concatenate((features_new_modified, test_features), axis=0)"
   ]
  },
  {
   "cell_type": "code",
   "execution_count": 140,
   "metadata": {
    "collapsed": true
   },
   "outputs": [],
   "source": [
    "from sklearn import preprocessing\n",
    "\n",
    "feat.shape\n",
    "feat = preprocessing.scale(feat)\n",
    "#a = np.array(preprocessing.scale(features_new))"
   ]
  },
  {
   "cell_type": "code",
   "execution_count": 141,
   "metadata": {},
   "outputs": [
    {
     "data": {
      "text/plain": [
       "(12085, 43)"
      ]
     },
     "execution_count": 141,
     "metadata": {},
     "output_type": "execute_result"
    }
   ],
   "source": [
    "feat.shape"
   ]
  },
  {
   "cell_type": "code",
   "execution_count": 144,
   "metadata": {},
   "outputs": [
    {
     "data": {
      "text/plain": [
       "array([-1.07871766, -0.54722184, -0.42512917,  1.93147395,  1.54025685,\n",
       "        1.31500581, -1.16401787, -0.58565784, -0.49448442,  2.19180469,\n",
       "        1.95816987,  1.93188337, -0.12769087, -0.09274514, -1.95714143,\n",
       "       -0.11982581, -2.25241434,  0.71612811, -1.23164308,  0.52522573,\n",
       "        0.35281807, -0.84841368,  0.02963811, -0.32673504, -0.25326001,\n",
       "       -0.18325033,  0.14371802, -0.29819487,  1.51366491,  1.45490293,\n",
       "        1.52880623,  2.44904285,  3.41701979,  2.22696858,  0.7279779 ,\n",
       "        0.36058202,  0.61054846,  0.75755116,  0.56720344, -0.68495489,\n",
       "        0.52522573,  0.35281807, -0.84841368])"
      ]
     },
     "execution_count": 144,
     "metadata": {},
     "output_type": "execute_result"
    }
   ],
   "source": [
    "feat[0]"
   ]
  },
  {
   "cell_type": "code",
   "execution_count": 143,
   "metadata": {},
   "outputs": [
    {
     "data": {
      "text/plain": [
       "array([ 0.11387221,  0.34858027,  1.40236773, -0.41534214, -0.40690439,\n",
       "       -0.35459478,  0.11792781,  0.3349446 ,  1.38988938, -0.61963034,\n",
       "       -0.56443602, -0.54750434, -2.12869714, -0.16335732,  0.40179768,\n",
       "       -0.1451961 ,  0.55047419,  1.34017378,  1.1392892 , -0.90400814,\n",
       "       -1.06833251,  1.69104934,  0.41219797,  0.47929388,  0.10319025,\n",
       "       -0.11034495, -0.52116462, 18.54889327, -0.43260115, -0.09793085,\n",
       "       -0.77811948, -0.57912506, -0.52367265, -0.54682524, -0.15535772,\n",
       "        0.0637886 ,  0.26366627, -1.15627329, -1.53763101,  1.39744902,\n",
       "       -0.90400814, -1.06833251,  1.69104934])"
      ]
     },
     "execution_count": 143,
     "metadata": {},
     "output_type": "execute_result"
    }
   ],
   "source": [
    "feat[-1]"
   ]
  },
  {
   "cell_type": "code",
   "execution_count": 145,
   "metadata": {
    "collapsed": true
   },
   "outputs": [],
   "source": [
    "feat.shape\n",
    "test_features_scaled = feat[-test_features.shape[0]:]"
   ]
  },
  {
   "cell_type": "code",
   "execution_count": 146,
   "metadata": {},
   "outputs": [
    {
     "data": {
      "text/plain": [
       "(353, 43)"
      ]
     },
     "execution_count": 146,
     "metadata": {},
     "output_type": "execute_result"
    }
   ],
   "source": [
    "test_features_scaled.shape"
   ]
  },
  {
   "cell_type": "code",
   "execution_count": 15,
   "metadata": {},
   "outputs": [
    {
     "name": "stdout",
     "output_type": "stream",
     "text": [
      "(11732, 49)\n",
      "(1174, 49)\n",
      "(1174,)\n",
      "0.979557069846678\n",
      "[0.98483081 0.96529968]\n",
      "Confusion matrix, without normalization\n",
      "[[844  11]\n",
      " [ 13 306]]\n"
     ]
    },
    {
     "data": {
      "image/png": "[encoded data removed]",
      "text/plain": [
       "<matplotlib.figure.Figure at 0x128fd5410>"
      ]
     },
     "metadata": {},
     "output_type": "display_data"
    },
    {
     "name": "stdout",
     "output_type": "stream",
     "text": [
      "0.9505494505494505\n",
      "[0.98377997 0.73636364]\n",
      "Confusion matrix, without normalization\n",
      "[[1395   58]\n",
      " [  23  162]]\n"
     ]
    },
    {
     "data": {
      "image/png": "[encoded data removed]",
      "text/plain": [
       "<matplotlib.figure.Figure at 0x128214910>"
      ]
     },
     "metadata": {},
     "output_type": "display_data"
    }
   ],
   "source": [
    "from sklearn.metrics import confusion_matrix\n",
    "import itertools\n",
    "from xgboost import XGBClassifier\n",
    "\n",
    "print(features.shape)\n",
    "#print(labels.shape)\n",
    "\n",
    "le = preprocessing.LabelEncoder()\n",
    "\n",
    "scaler = preprocessing.StandardScaler()\n",
    "#X = scaler.fit_transform(features)\n",
    "X = features\n",
    "\n",
    "#X = np.array(preprocessing.scale(features))\n",
    "y = le.fit_transform(labels)\n",
    "\n",
    "X_train, X_test, y_train, y_test = train_test_split(X, y, test_size=0.1, random_state=42)\n",
    "\n",
    "#model = LogisticRegression(penalty='l1')\n",
    "#model = MLPClassifier(hidden_layer_sizes=(50,100), activation='tanh', solver='lbfgs', random_state=42, max_iter=500)\n",
    "model = DecisionTreeClassifier(random_state=42, max_features=25, criterion='gini')\n",
    "#model = XGBClassifier()\n",
    "#model = RandomForestClassifier(n_estimators=40, criterion='gini', max_features=10, max_depth=15,random_state=42)\n",
    "model.fit(X_train, y_train)\n",
    "\n",
    "\n",
    "X = X_test\n",
    "y = y_test\n",
    "# X = np.array(normalize(test_features_new))\n",
    "# y = le.transform(test_labels)\n",
    "\n",
    "print(X.shape)\n",
    "print(y.shape)\n",
    "\n",
    "prediction = model.predict(X)\n",
    "\n",
    "accuracy = metrics.accuracy_score(y, prediction)\n",
    "precision = metrics.precision_score(y, prediction, average = None)\n",
    "# recall = metrics.recall_score(y_test, prediction, average = None)\n",
    "\n",
    "print(accuracy)\n",
    "print(precision)\n",
    "\n",
    "cnf_matrix = confusion_matrix(y,prediction)\n",
    "\n",
    "plot_confusion_matrix(cnf_matrix, classes=le.classes_,\n",
    "                      title='Confusion matrix, without normalization')\n",
    "\n",
    "#X = scaler.fit_transform(features) \n",
    "#X = np.array(preprocessing.scale(features))\n",
    "X = features\n",
    "y = le.fit_transform(labels)\n",
    "\n",
    "model.fit(X, y)\n",
    "\n",
    "\n",
    "#X = scaler.transform(test_features)\n",
    "X = test_features\n",
    "#X = np.array(preprocessing.scale(test_features))\n",
    "y = le.transform(test_labels)\n",
    "\n",
    "#X = X_test\n",
    "#y = y_test\n",
    "\n",
    "#print(X.shape)\n",
    "#print(y.shape)\n",
    "\n",
    "prediction = model.predict(X)\n",
    "\n",
    "accuracy = metrics.accuracy_score(y, prediction)\n",
    "precision = metrics.precision_score(y, prediction, average = None)\n",
    "# recall = metrics.recall_score(y_test, prediction, average = None)\n",
    "\n",
    "print(accuracy)\n",
    "print(precision)\n",
    "\n",
    "cnf_matrix = confusion_matrix(y,prediction)\n",
    "\n",
    "plot_confusion_matrix(cnf_matrix, classes=le.classes_,\n",
    "                      title='Confusion matrix, without normalization')"
   ]
  },
  {
   "cell_type": "code",
   "execution_count": 167,
   "metadata": {},
   "outputs": [
    {
     "data": {
      "text/plain": [
       "array([-6.58417628e+00, -4.70573368e+00, -7.92543820e-01,  2.15035934e+01,\n",
       "        1.29422898e+01,  8.22818694e+00, -7.11868565e+00, -4.86387670e+00,\n",
       "       -1.19203280e+00,  4.63719672e+00,  3.59753941e+00,  2.86848164e+00,\n",
       "        1.40785103e+01,  1.84310290e+00, -1.70666540e+01,  1.47926960e+00,\n",
       "       -1.85602860e+01,  8.28678200e+00, -8.69848800e+00,  6.48549707e+01,\n",
       "        3.50862193e+01,  8.85631264e+00,  2.57971417e-02, -1.06399288e+00,\n",
       "       -4.38376099e-01,  1.98901260e-01,  1.24036961e-01, -3.55347654e-01,\n",
       "        9.41994004e+00,  9.17690723e+00,  9.11981364e+00,  8.04502397e+00,\n",
       "        6.19713423e+00,  4.58860805e+00,  1.88184447e+04, -1.37288594e+03,\n",
       "        1.28990377e+04,  8.05325839e+03,  5.92336217e+03,  2.97595575e+03,\n",
       "        6.48549707e+04,  3.50862193e+04,  8.85631264e+03])"
      ]
     },
     "execution_count": 167,
     "metadata": {},
     "output_type": "execute_result"
    }
   ],
   "source": [
    "features[0]"
   ]
  },
  {
   "cell_type": "code",
   "execution_count": 168,
   "metadata": {},
   "outputs": [
    {
     "data": {
      "text/plain": [
       "array([ 8.31807172e+00, -2.58944945e+00,  4.85914690e+00,  6.24986504e-03,\n",
       "        1.17784540e-01,  5.07473489e-02,  8.30593100e+00, -2.56119500e+00,\n",
       "        4.89738750e+00,  7.90560879e-02,  3.43197524e-01,  2.25271722e-01,\n",
       "        1.57666681e+01,  8.69848800e+00,  8.01869400e+00, -1.89097570e+00,\n",
       "       -3.36545800e+00,  5.43356300e+00,  4.28461600e+00,  6.91965670e+01,\n",
       "        6.82303298e+00,  2.36620559e+01,  6.39071407e-01,  2.73993922e+00,\n",
       "       -3.11349839e-01, -1.13864841e+00, -3.68664008e-01, -8.84812916e-01,\n",
       "        4.87291401e+00,  6.71606754e+00,  6.15313815e+00,  8.61715000e-02,\n",
       "        6.51070000e-01,  3.85375850e-01, -2.15497234e+04, -1.25148214e+04,\n",
       "        4.04075936e+04,  8.31844739e+03,  2.61209360e+03,  4.86436593e+03,\n",
       "        6.91965670e+04,  6.82303298e+03,  2.36620559e+04])"
      ]
     },
     "execution_count": 168,
     "metadata": {},
     "output_type": "execute_result"
    }
   ],
   "source": [
    "test_features[0]\n",
    "# test_labels[1]"
   ]
  },
  {
   "cell_type": "code",
   "execution_count": 85,
   "metadata": {},
   "outputs": [
    {
     "name": "stdout",
     "output_type": "stream",
     "text": [
      "Counter({3: 319, 2: 302, 0: 295, 1: 258})\n"
     ]
    }
   ],
   "source": [
    "from collections import Counter\n",
    "\n",
    "c = Counter(y)\n",
    "\n",
    "print(c)"
   ]
  },
  {
   "cell_type": "code",
   "execution_count": 110,
   "metadata": {},
   "outputs": [
    {
     "data": {
      "text/plain": [
       "array(['laying_down', 'sitting', 'standing', 'walking'], dtype='|S11')"
      ]
     },
     "execution_count": 110,
     "metadata": {},
     "output_type": "execute_result"
    }
   ],
   "source": [
    "le.classes_"
   ]
  },
  {
   "cell_type": "code",
   "execution_count": 163,
   "metadata": {
    "collapsed": true
   },
   "outputs": [],
   "source": []
  },
  {
   "cell_type": "code",
   "execution_count": null,
   "metadata": {
    "collapsed": true
   },
   "outputs": [],
   "source": []
  }
 ],
 "metadata": {
  "kernelspec": {
   "display_name": "Python 2",
   "language": "python",
   "name": "python2"
  },
  "language_info": {
   "codemirror_mode": {
    "name": "ipython",
    "version": 2
   },
   "file_extension": ".py",
   "mimetype": "text/x-python",
   "name": "python",
   "nbconvert_exporter": "python",
   "pygments_lexer": "ipython2",
   "version": "2.7.13"
  }
 },
 "nbformat": 4,
 "nbformat_minor": 2
}
