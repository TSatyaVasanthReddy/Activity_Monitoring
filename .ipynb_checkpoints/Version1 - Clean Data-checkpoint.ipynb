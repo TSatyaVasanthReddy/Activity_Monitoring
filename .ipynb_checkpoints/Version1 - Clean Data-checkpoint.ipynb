{
 "cells": [
  {
   "cell_type": "markdown",
   "metadata": {},
   "source": [
    "Import Statements"
   ]
  },
  {
   "cell_type": "code",
   "execution_count": 69,
   "metadata": {},
   "outputs": [],
   "source": [
    "import pandas as pd\n",
    "import numpy as np\n",
    "import os\n",
    "from collections import defaultdict\n",
    "from collections import OrderedDict\n",
    "from sklearn.tree import DecisionTreeClassifier\n",
    "from sklearn.linear_model import LogisticRegression\n",
    "import matplotlib.pyplot as plt\n",
    "from sklearn.svm import SVC\n",
    "from sklearn.neural_network import MLPClassifier\n",
    "from sklearn.ensemble import RandomForestClassifier"
   ]
  },
  {
   "cell_type": "markdown",
   "metadata": {},
   "source": [
    "reading one file at a time"
   ]
  },
  {
   "cell_type": "code",
   "execution_count": 2,
   "metadata": {},
   "outputs": [],
   "source": [
    "#trim the start and end of the dataframe specified by cutoff seconds\n",
    "def trim(dataframe, cutoff, windowSize):\n",
    "    cutoffTime = cutoff * 1000\n",
    "    \n",
    "    #trim from beginning\n",
    "    previousTimestamp = dataframe[0].iloc[0]\n",
    "    timeElapsed = 0\n",
    "    for index, row in dataframe.iterrows():\n",
    "        nextTimestamp = row[0]\n",
    "        timeElapsed += (nextTimestamp - previousTimestamp)\n",
    "        previousTimestamp = nextTimestamp\n",
    "        if timeElapsed >= cutoffTime:\n",
    "            cutoffIndex = index\n",
    "            break\n",
    "    \n",
    "    cutoffRange = list(range(cutoffIndex))\n",
    "    dataframe.drop(dataframe.index[cutoffRange], inplace=True)\n",
    "    \n",
    "    #trim from end\n",
    "    #discard dataframe if it is smaller than windowsize\n",
    "    if not checkFrame(dataframe, windowSize):\n",
    "        return None\n",
    "    \n",
    "    numRows = dataframe.shape[0]\n",
    "    nextTimestamp = dataframe[0].iloc[-1]\n",
    "    timeElapsed = 0\n",
    "    for index in range(numRows - 1, -1, -1):\n",
    "        dataRow = dataframe.iloc[index]\n",
    "        previousTimestamp = dataRow[0]\n",
    "        timeElapsed += (nextTimestamp - previousTimestamp)\n",
    "        nextTimestamp = previousTimestamp\n",
    "        if timeElapsed >= cutoffTime:\n",
    "            cutoffIndex = index\n",
    "            break\n",
    "            \n",
    "    cutoffRange = list(range(cutoffIndex, numRows))\n",
    "    dataframe.drop(dataframe.index[cutoffRange], inplace=True) \n",
    "    \n",
    "    #discard dataframe if smaller than window size after trimming\n",
    "    if not checkFrame(dataframe, windowSize):\n",
    "        return None\n",
    "    \n",
    "    return dataframe"
   ]
  },
  {
   "cell_type": "code",
   "execution_count": 3,
   "metadata": {},
   "outputs": [],
   "source": [
    "#check size of the dataframe and return False if dataframe smaller than windowsize\n",
    "def checkFrame(df, window):\n",
    "    if df.shape == (0, 0):\n",
    "        return False\n",
    "    \n",
    "    startRow = df.iloc[0]\n",
    "    startTime = startRow[0]\n",
    "    \n",
    "    endRow = df.iloc[-1]\n",
    "    endTime = endRow[0]\n",
    "    \n",
    "    diff = endTime - startTime\n",
    "    if diff < (window * 1000):\n",
    "        return False\n",
    "    \n",
    "    return True"
   ]
  },
  {
   "cell_type": "code",
   "execution_count": 4,
   "metadata": {},
   "outputs": [],
   "source": [
    "#perform statistical feature extraction and perform windowing\n",
    "def preprocess(dataFrame, windowSize, isOverlapping=False, overlappingFactor=0):\n",
    "    \n",
    "    #preprocess data to contain non overlapping windows of size denoted by windowSize\n",
    "    #extract statistical features such as mean and variance from the data\n",
    "    #return the transformed dataframe\n",
    "    \n",
    "    #use the preprocessOverlapping function if we need overlapping windows\n",
    "    if isOverlapping:\n",
    "        return preprocessOverlapping(dataFrame, windowSize, overlappingFactor)\n",
    "    \n",
    "    columns = ['x_mean', 'y_mean', 'z_mean', 'x_variance', 'y_variance', 'z_variance', 'class_label']\n",
    "    transformedDataframe = pd.DataFrame(columns=columns)\n",
    "    windowStart = 0\n",
    "    \n",
    "    while True:\n",
    "        windowEl = defaultdict(list)\n",
    "        window = OrderedDict()\n",
    "        windowStartTime = dataFrame.iloc[windowStart][0]\n",
    "        \n",
    "        for index in range(windowStart, dataFrame.shape[0]):\n",
    "            row = dataFrame.iloc[index]\n",
    "            time = row[0]\n",
    "            \n",
    "            if (time - windowStartTime) > (windowSize * 1000):\n",
    "                #elements in window collected, process and add them to the transformed dataframe\n",
    "                window['x_mean'] = np.mean(windowEl['x'])\n",
    "                window['y_mean'] = np.mean(windowEl['y'])\n",
    "                window['z_mean'] = np.mean(windowEl['z'])\n",
    "                window['x_variance'] = np.var(windowEl['x'])\n",
    "                window['y_variance'] = np.var(windowEl['y'])\n",
    "                window['z_variance'] = np.var(windowEl['z'])\n",
    "                window['class_label'] = windowEl['class']\n",
    "                transformedDataframe = transformedDataframe.append(window, ignore_index=True)\n",
    "                \n",
    "                #set the starting index of the next window\n",
    "                windowStart = index\n",
    "                break\n",
    "            else:\n",
    "                windowEl['x'].append(row[1])\n",
    "                windowEl['y'].append(row[2])\n",
    "                windowEl['z'].append(row[3])\n",
    "                windowEl['class'] = row[5]\n",
    "        \n",
    "        if windowStart == dataFrame.shape[0] or index == (dataFrame.shape[0] - 1):\n",
    "            break\n",
    "    return transformedDataframe"
   ]
  },
  {
   "cell_type": "code",
   "execution_count": 5,
   "metadata": {},
   "outputs": [],
   "source": [
    "def preprocessOverlapping(dataFrame, windowSize, overlappingFactor):\n",
    "    \n",
    "    #preprocess data to contain overlapping windows of size denoted by windowSize\n",
    "    #extract statistical features such as mean and variance from the data\n",
    "    #return the transformed dataframe\n",
    "    \n",
    "    columns = ['x_mean', 'y_mean', 'z_mean', 'x_variance', 'y_variance', 'z_variance', 'class_label']\n",
    "    transformedDataframe = pd.DataFrame(columns=columns)\n",
    "    windowStart = 0\n",
    "    overlapTime = (1 - overlappingFactor) * windowSize * 1000\n",
    "    \n",
    "    while True:\n",
    "        windowEl = defaultdict(list)\n",
    "        window = OrderedDict()\n",
    "        windowStartTime = dataFrame.iloc[windowStart][0]\n",
    "        overlapFound = False\n",
    "        \n",
    "        for index in range(windowStart, dataFrame.shape[0]):\n",
    "            row = dataFrame.iloc[index]\n",
    "            time = row[0]\n",
    "            \n",
    "            if (time - windowStartTime) >= overlapTime and overlapFound == False:\n",
    "                overlapFound = True\n",
    "                windowStart = index\n",
    "                \n",
    "            if (time - windowStartTime) > (windowSize * 1000):\n",
    "                #elements in window collected, process and add them to the transformed dataframe\n",
    "                window['x_mean'] = np.mean(windowEl['x'])\n",
    "                window['y_mean'] = np.mean(windowEl['y'])\n",
    "                window['z_mean'] = np.mean(windowEl['z'])\n",
    "                window['x_variance'] = np.var(windowEl['x'])\n",
    "                window['y_variance'] = np.var(windowEl['y'])\n",
    "                window['z_variance'] = np.var(windowEl['z'])\n",
    "                window['class_label'] = windowEl['class']\n",
    "                transformedDataframe = transformedDataframe.append(window, ignore_index=True)\n",
    "                break\n",
    "            else:\n",
    "                windowEl['x'].append(row[1])\n",
    "                windowEl['y'].append(row[2])\n",
    "                windowEl['z'].append(row[3])\n",
    "                windowEl['class'] = row[5]\n",
    "\n",
    "        if windowStart == dataFrame.shape[0] or index == (dataFrame.shape[0] - 1):\n",
    "            break\n",
    "    return transformedDataframe"
   ]
  },
  {
   "cell_type": "code",
   "execution_count": 6,
   "metadata": {
    "scrolled": true
   },
   "outputs": [],
   "source": [
    "def createDataframe(windowSize, cutoffSize, overlapping, overlappingFactor):\n",
    "    rootDir = \"E:\\\\UCLA\\\\CourseWork\\\\Winter2018\\\\CS205\\\\DecentLogger\\\\CleanData\"\n",
    "    accList = list()\n",
    "    length = 0\n",
    "    windowSize = 4\n",
    "    for root, dirs, files in os.walk(rootDir):\n",
    "        path = root.split(os.sep)\n",
    "        #print(root)\n",
    "        if root[-4:] == 'attr':\n",
    "            continue\n",
    "        else:\n",
    "            for f in files:\n",
    "                if f == '1_android.sensor.accelerometer.data.csv':\n",
    "                    full_path = \"/\".join(path) + \"/\" + f\n",
    "                    df = pd.read_csv(full_path,header=None)\n",
    "\n",
    "                    #discard dataframe if smaller than window size\n",
    "                    if not checkFrame(df, windowSize):\n",
    "                        continue\n",
    "                    else:\n",
    "                        #trim the dataframe from start and end\n",
    "                        df = trim(df, cutoff=trimCutoff, windowSize=windowSize)\n",
    "                        if df is None:\n",
    "                            continue\n",
    "                        #extract features from dataframe and perform windowing\n",
    "                        #print(\"Before: \", df.shape)\n",
    "                        transformedDF = preprocess(df, windowSize=windowSize, isOverlapping=overlapping, overlappingFactor=overlappingFactor)\n",
    "                        #print('After: ', transformedDF.shape)\n",
    "                        #print('After: ', transformedDF.columns.values)\n",
    "                        #append to the list of dataframes\n",
    "                        accList.append(transformedDF)\n",
    "\n",
    "    #create final dataframe\n",
    "    accFrame = pd.concat(accList)\n",
    "    return accFrame           \n",
    "                \n"
   ]
  },
  {
   "cell_type": "code",
   "execution_count": 75,
   "metadata": {},
   "outputs": [],
   "source": [
    "def getModel(modelName, args):\n",
    "    \n",
    "    if modelName == 'LogisticRegression':\n",
    "        model = LogisticRegression(random_state=42)\n",
    "        \n",
    "    if modelName == 'SVC':\n",
    "        model = SVC(random_state=42, kernel=args[0], C=args[1], decision_function_shape=args[2])\n",
    "        \n",
    "    if modelName == 'DecisionTreeClassifier':\n",
    "        model = DecisionTreeClassifier(random_state=42, max_features=args[0], criterion=args[1])\n",
    "        \n",
    "    if modelName == 'RandomForestClassifier':\n",
    "        model = RandomForestClassifier(n_estimators=args[0], criterion=args[1], max_features=args[2], max_depth=args[3], oob_score=True, random_state=42)\n",
    "        \n",
    "    if modelName == 'MLPClassifier':\n",
    "        model = MLPClassifier(hidden_layer_sizes=args[0], activation=args[1], solver=args[2], random_state=42, max_iter=500)\n",
    "        \n",
    "    return model\n",
    "        "
   ]
  },
  {
   "cell_type": "code",
   "execution_count": 20,
   "metadata": {},
   "outputs": [],
   "source": [
    "from sklearn.model_selection import KFold\n",
    "from sklearn import metrics\n",
    "import sys\n",
    "\n",
    "def classify(modelName, X, y, args=None, verbose=False):\n",
    "    \n",
    "    kf = KFold(n_splits=10, shuffle=True)\n",
    "\n",
    "    foldAccuracy = list()\n",
    "    foldPrecision = list()\n",
    "    foldRecall = list()\n",
    "    bestModel = None\n",
    "    bestAccuracy = float(sys.maxsize) * (-1)\n",
    "    \n",
    "    fold = 1\n",
    "    \n",
    "    for trainIndex, testIndex in kf.split(X):\n",
    "        XTrain, XTest = X[trainIndex], X[testIndex]\n",
    "        yTrain, yTest = y[trainIndex], y[testIndex]\n",
    "\n",
    "        model = getModel(modelName, args)\n",
    "        model.fit(XTrain, yTrain)\n",
    "\n",
    "        prediction = model.predict(XTest)\n",
    "\n",
    "        if verbose:\n",
    "            print(\"\\nFold: \", fold)\n",
    "            print(\"Confusion Matrix:\")\n",
    "            cm = metrics.confusion_matrix(yTest, prediction)\n",
    "            print(cm)\n",
    "            plt.matshow(cm, cmap = plt.cm.Oranges)\n",
    "            plt.title('Confusion matrix')\n",
    "            plt.colorbar()\n",
    "            plt.ylabel('True label')\n",
    "            plt.xlabel('Predicted label')\n",
    "            plt.show()\n",
    "\n",
    "        accuracy = metrics.accuracy_score(yTest, prediction)\n",
    "        precision = metrics.precision_score(yTest, prediction, average = None)\n",
    "        recall = metrics.recall_score(yTest, prediction, average = None)\n",
    "\n",
    "        foldAccuracy.append(accuracy)\n",
    "        foldPrecision.append(precision)\n",
    "        foldRecall.append(recall)\n",
    "        \n",
    "        if accuracy > bestAccuracy:\n",
    "            bestAccuracy = accuracy\n",
    "            bestModel = model\n",
    "        \n",
    "        fold += 1\n",
    "        \n",
    "    print(\"\\nBest Accuracy: \", bestAccuracy)\n",
    "    \n",
    "    return bestModel, foldAccuracy, foldPrecision, foldRecall"
   ]
  },
  {
   "cell_type": "code",
   "execution_count": 9,
   "metadata": {},
   "outputs": [],
   "source": [
    "#create data\n",
    "from sklearn.preprocessing import StandardScaler\n",
    "from sklearn.preprocessing import LabelEncoder\n",
    "\n",
    "def createDataMatrix(dataframe):\n",
    "\n",
    "    dataMatrix = dataframe.as_matrix()\n",
    "    X = dataMatrix[:, :dataMatrix.shape[1] - 1]\n",
    "\n",
    "    scaler = StandardScaler()\n",
    "    X = scaler.fit_transform(X)\n",
    "\n",
    "    y = dataMatrix[:, -1]\n",
    "\n",
    "    le = LabelEncoder()\n",
    "    y = le.fit_transform(y)\n",
    "    y = y.astype('int')\n",
    "    \n",
    "    return X, y"
   ]
  },
  {
   "cell_type": "markdown",
   "metadata": {},
   "source": [
    "1 <br>\n",
    "    trimCutoff = 5s <br>\n",
    "    windowSize = 2s <br>\n",
    "    overlapping = False <br>\n",
    "    overlappingFactor = 0 <br>"
   ]
  },
  {
   "cell_type": "code",
   "execution_count": null,
   "metadata": {},
   "outputs": [],
   "source": [
    "#windowing parameters\n",
    "trimCutoff = 5\n",
    "windowSize = 2\n",
    "overlapping = False\n",
    "overlappingFactor = 0"
   ]
  },
  {
   "cell_type": "code",
   "execution_count": null,
   "metadata": {},
   "outputs": [],
   "source": [
    "#create data\n",
    "df = createDataframe(windowSize, trimCutoff, overlapping, overlappingFactor)\n",
    "X, y = createDataMatrix(df)\n",
    "\n",
    "print(\"Shape of X: \", X.shape)\n",
    "print(\"Shape of Y: \", y.shape)"
   ]
  },
  {
   "cell_type": "code",
   "execution_count": null,
   "metadata": {},
   "outputs": [],
   "source": [
    "#logistic Regression\n",
    "lrModel, lrAccuracy, lrPrecision, lrRecall = classify('LogisticRegression', X, y)"
   ]
  },
  {
   "cell_type": "code",
   "execution_count": null,
   "metadata": {},
   "outputs": [],
   "source": [
    "#hard margin SVM 1\n",
    "\n",
    "#kernel = 'rbf'\n",
    "#C = 1000\n",
    "#decision_function_shape = 'ovo'\n",
    "\n",
    "args = ['rbf', 1000, 'ovo']\n",
    "\n",
    "hmSVC1Model, hmSVC1Accuracy, hmSVC1Precision, hmSVC1Recall = classify('SVC', X, y, args)"
   ]
  },
  {
   "cell_type": "code",
   "execution_count": null,
   "metadata": {},
   "outputs": [],
   "source": [
    "#hard margin SVM 2\n",
    "\n",
    "#kernel = 'rbf'\n",
    "#C = 1000\n",
    "#decision_function_shape = 'ovr'\n",
    "\n",
    "args = ['rbf', 1000, 'ovr']\n",
    "\n",
    "hmSVC2Model, hmSVC2Accuracy, hmSVC2Precision, hmSVC2Recall = classify('SVC', X, y, args)"
   ]
  },
  {
   "cell_type": "code",
   "execution_count": null,
   "metadata": {},
   "outputs": [],
   "source": [
    "#hard margin SVM 3\n",
    "\n",
    "#kernel = 'linear'\n",
    "#C = 1000\n",
    "#decision_function_shape = 'ovo'\n",
    "\n",
    "args = ['linear', 1000, 'ovo']\n",
    "\n",
    "hmSVC3Model, hmSVC3Accuracy, hmSVC3Precision, hmSVC3Recall = classify('SVC', X, y, args)"
   ]
  },
  {
   "cell_type": "code",
   "execution_count": null,
   "metadata": {},
   "outputs": [],
   "source": [
    "#hard margin SVM 4\n",
    "\n",
    "#kernel = 'linear'\n",
    "#C = 1000\n",
    "#decision_function_shape = 'ovr'\n",
    "\n",
    "args = ['linear', 1000, 'ovr']\n",
    "\n",
    "hmSVC4Model, hmSVC4Accuracy, hmSVC4Precision, hmSVC4Recall = classify('SVC', X, y, args)"
   ]
  },
  {
   "cell_type": "code",
   "execution_count": null,
   "metadata": {},
   "outputs": [],
   "source": [
    "#soft margin SVM 1\n",
    "\n",
    "#kernel = 'rbf'\n",
    "#C = 0.001\n",
    "#decision_function_shape = 'ovo'\n",
    "\n",
    "args = ['rbf', 0.001, 'ovo']\n",
    "\n",
    "smSVC1Model, smSVC1Accuracy, smSVC1Precision, smSVC1Recall = classify('SVC', X, y, args)"
   ]
  },
  {
   "cell_type": "code",
   "execution_count": null,
   "metadata": {},
   "outputs": [],
   "source": [
    "#soft margin SVM 2\n",
    "\n",
    "#kernel = 'rbf'\n",
    "#C = 0.001\n",
    "#decision_function_shape = 'ovr'\n",
    "\n",
    "args = ['rbf', 0.001, 'ovr']\n",
    "\n",
    "smSVC2Model, smSVC2Accuracy, smSVC2Precision, smSVC2Recall = classify('SVC', X, y, args)"
   ]
  },
  {
   "cell_type": "code",
   "execution_count": null,
   "metadata": {},
   "outputs": [],
   "source": [
    "#soft margin SVM 3\n",
    "\n",
    "#kernel = 'linear'\n",
    "#C = 0.001\n",
    "#decision_function_shape = 'ovo'\n",
    "\n",
    "args = ['linear', 0.001, 'ovo']\n",
    "\n",
    "smSVC3Model, smSVC3Accuracy, smSVC3Precision, smSVC3Recall = classify('SVC', X, y, args)"
   ]
  },
  {
   "cell_type": "code",
   "execution_count": null,
   "metadata": {},
   "outputs": [],
   "source": [
    "#soft margin SVM 4\n",
    "\n",
    "#kernel = 'linear'\n",
    "#C = 0.001\n",
    "#decision_function_shape = 'ovr'\n",
    "\n",
    "args = ['linear', 0.001, 'ovr']\n",
    "\n",
    "smSVC4Model, smSVC4Accuracy, smSVC4Precision, smSVC4Recall = classify('SVC', X, y, args)"
   ]
  },
  {
   "cell_type": "code",
   "execution_count": null,
   "metadata": {},
   "outputs": [],
   "source": [
    "#decision Tree 1\n",
    "\n",
    "#max_features = 6\n",
    "#criterion = 'gini'\n",
    "\n",
    "args = [6, 'gini']\n",
    "\n",
    "dt1Model, dt1Accuracy, dt1Precision, dt1Recall = classify('DecisionTreeClassifier', X, y, args)"
   ]
  },
  {
   "cell_type": "code",
   "execution_count": null,
   "metadata": {},
   "outputs": [],
   "source": [
    "#decision Tree 2\n",
    "\n",
    "#max_features = 6\n",
    "#criterion = 'entropy'\n",
    "\n",
    "args = [6, 'entropy']\n",
    "\n",
    "dt2Model, dt2Accuracy, dt2Precision, dt2Recall = classify('DecisionTreeClassifier', X, y, args)"
   ]
  },
  {
   "cell_type": "markdown",
   "metadata": {},
   "source": [
    "2 <br>\n",
    "    trimCutoff = 5s <br>\n",
    "    windowSize = 4s <br>\n",
    "    overlapping = False <br>\n",
    "    overlappingFactor = 0 <br>"
   ]
  },
  {
   "cell_type": "code",
   "execution_count": 13,
   "metadata": {},
   "outputs": [],
   "source": [
    "#windowing parameters\n",
    "trimCutoff = 5\n",
    "windowSize = 4\n",
    "overlapping = False\n",
    "overlappingFactor = 0"
   ]
  },
  {
   "cell_type": "code",
   "execution_count": 14,
   "metadata": {},
   "outputs": [
    {
     "name": "stdout",
     "output_type": "stream",
     "text": [
      "Shape of X:  (1160, 6)\n",
      "Shape of Y:  (1160,)\n"
     ]
    },
    {
     "name": "stderr",
     "output_type": "stream",
     "text": [
      "c:\\users\\anoos\\appdata\\local\\programs\\python\\python36\\lib\\site-packages\\sklearn\\utils\\validation.py:475: DataConversionWarning: Data with input dtype object was converted to float64 by StandardScaler.\n",
      "  warnings.warn(msg, DataConversionWarning)\n"
     ]
    }
   ],
   "source": [
    "#create data\n",
    "df = createDataframe(windowSize, trimCutoff, overlapping, overlappingFactor)\n",
    "X, y = createDataMatrix(df)\n",
    "\n",
    "print(\"Shape of X: \", X.shape)\n",
    "print(\"Shape of Y: \", y.shape)"
   ]
  },
  {
   "cell_type": "code",
   "execution_count": 23,
   "metadata": {},
   "outputs": [
    {
     "name": "stdout",
     "output_type": "stream",
     "text": [
      "\n",
      "Best Accuracy:  0.8448275862068966\n"
     ]
    }
   ],
   "source": [
    "#logistic Regression\n",
    "lrModel, lrAccuracy, lrPrecision, lrRecall = classify('LogisticRegression', X, y)"
   ]
  },
  {
   "cell_type": "code",
   "execution_count": 24,
   "metadata": {},
   "outputs": [
    {
     "name": "stdout",
     "output_type": "stream",
     "text": [
      "\n",
      "Best Accuracy:  0.9396551724137931\n"
     ]
    }
   ],
   "source": [
    "#hard margin SVM 1\n",
    "\n",
    "#kernel = 'rbf'\n",
    "#C = 1000\n",
    "#decision_function_shape = 'ovo'\n",
    "\n",
    "args = ['rbf', 1000, 'ovo']\n",
    "\n",
    "hmSVC1Model, hmSVC1Accuracy, hmSVC1Precision, hmSVC1Recall = classify('SVC', X, y, args)"
   ]
  },
  {
   "cell_type": "code",
   "execution_count": 25,
   "metadata": {},
   "outputs": [
    {
     "name": "stdout",
     "output_type": "stream",
     "text": [
      "\n",
      "Best Accuracy:  0.9310344827586207\n"
     ]
    }
   ],
   "source": [
    "#hard margin SVM 2\n",
    "\n",
    "#kernel = 'rbf'\n",
    "#C = 1000\n",
    "#decision_function_shape = 'ovr'\n",
    "\n",
    "args = ['rbf', 1000, 'ovr']\n",
    "\n",
    "hmSVC2Model, hmSVC2Accuracy, hmSVC2Precision, hmSVC2Recall = classify('SVC', X, y, args)"
   ]
  },
  {
   "cell_type": "code",
   "execution_count": 26,
   "metadata": {},
   "outputs": [
    {
     "name": "stdout",
     "output_type": "stream",
     "text": [
      "\n",
      "Best Accuracy:  0.7931034482758621\n"
     ]
    }
   ],
   "source": [
    "#hard margin SVM 3\n",
    "\n",
    "#kernel = 'linear'\n",
    "#C = 1000\n",
    "#decision_function_shape = 'ovo'\n",
    "\n",
    "args = ['linear', 1000, 'ovo']\n",
    "\n",
    "hmSVC3Model, hmSVC3Accuracy, hmSVC3Precision, hmSVC3Recall = classify('SVC', X, y, args)"
   ]
  },
  {
   "cell_type": "code",
   "execution_count": 27,
   "metadata": {},
   "outputs": [
    {
     "name": "stdout",
     "output_type": "stream",
     "text": [
      "\n",
      "Best Accuracy:  0.8275862068965517\n"
     ]
    }
   ],
   "source": [
    "#hard margin SVM 4\n",
    "\n",
    "#kernel = 'linear'\n",
    "#C = 1000\n",
    "#decision_function_shape = 'ovr'\n",
    "\n",
    "args = ['linear', 1000, 'ovr']\n",
    "\n",
    "hmSVC4Model, hmSVC4Accuracy, hmSVC4Precision, hmSVC4Recall = classify('SVC', X, y, args)"
   ]
  },
  {
   "cell_type": "code",
   "execution_count": 28,
   "metadata": {},
   "outputs": [
    {
     "name": "stderr",
     "output_type": "stream",
     "text": [
      "c:\\users\\anoos\\appdata\\local\\programs\\python\\python36\\lib\\site-packages\\sklearn\\metrics\\classification.py:1135: UndefinedMetricWarning: Precision is ill-defined and being set to 0.0 in labels with no predicted samples.\n",
      "  'precision', 'predicted', average, warn_for)\n"
     ]
    },
    {
     "name": "stdout",
     "output_type": "stream",
     "text": [
      "\n",
      "Best Accuracy:  0.5\n"
     ]
    }
   ],
   "source": [
    "#soft margin SVM 1\n",
    "\n",
    "#kernel = 'rbf'\n",
    "#C = 0.001\n",
    "#decision_function_shape = 'ovo'\n",
    "\n",
    "args = ['rbf', 0.001, 'ovo']\n",
    "\n",
    "smSVC1Model, smSVC1Accuracy, smSVC1Precision, smSVC1Recall = classify('SVC', X, y, args)"
   ]
  },
  {
   "cell_type": "code",
   "execution_count": 29,
   "metadata": {},
   "outputs": [
    {
     "name": "stderr",
     "output_type": "stream",
     "text": [
      "c:\\users\\anoos\\appdata\\local\\programs\\python\\python36\\lib\\site-packages\\sklearn\\metrics\\classification.py:1135: UndefinedMetricWarning: Precision is ill-defined and being set to 0.0 in labels with no predicted samples.\n",
      "  'precision', 'predicted', average, warn_for)\n"
     ]
    },
    {
     "name": "stdout",
     "output_type": "stream",
     "text": [
      "\n",
      "Best Accuracy:  0.35344827586206895\n"
     ]
    }
   ],
   "source": [
    "#soft margin SVM 2\n",
    "\n",
    "#kernel = 'rbf'\n",
    "#C = 0.001\n",
    "#decision_function_shape = 'ovr'\n",
    "\n",
    "args = ['rbf', 0.001, 'ovr']\n",
    "\n",
    "smSVC2Model, smSVC2Accuracy, smSVC2Precision, smSVC2Recall = classify('SVC', X, y, args)"
   ]
  },
  {
   "cell_type": "code",
   "execution_count": 30,
   "metadata": {},
   "outputs": [
    {
     "name": "stdout",
     "output_type": "stream",
     "text": [
      "\n",
      "Best Accuracy:  0.5862068965517241\n"
     ]
    },
    {
     "name": "stderr",
     "output_type": "stream",
     "text": [
      "c:\\users\\anoos\\appdata\\local\\programs\\python\\python36\\lib\\site-packages\\sklearn\\metrics\\classification.py:1135: UndefinedMetricWarning: Precision is ill-defined and being set to 0.0 in labels with no predicted samples.\n",
      "  'precision', 'predicted', average, warn_for)\n"
     ]
    }
   ],
   "source": [
    "#soft margin SVM 3\n",
    "\n",
    "#kernel = 'linear'\n",
    "#C = 0.001\n",
    "#decision_function_shape = 'ovo'\n",
    "\n",
    "args = ['linear', 0.001, 'ovo']\n",
    "\n",
    "smSVC3Model, smSVC3Accuracy, smSVC3Precision, smSVC3Recall = classify('SVC', X, y, args)"
   ]
  },
  {
   "cell_type": "code",
   "execution_count": 31,
   "metadata": {},
   "outputs": [
    {
     "name": "stderr",
     "output_type": "stream",
     "text": [
      "c:\\users\\anoos\\appdata\\local\\programs\\python\\python36\\lib\\site-packages\\sklearn\\metrics\\classification.py:1135: UndefinedMetricWarning: Precision is ill-defined and being set to 0.0 in labels with no predicted samples.\n",
      "  'precision', 'predicted', average, warn_for)\n"
     ]
    },
    {
     "name": "stdout",
     "output_type": "stream",
     "text": [
      "\n",
      "Best Accuracy:  0.6206896551724138\n"
     ]
    }
   ],
   "source": [
    "#soft margin SVM 4\n",
    "\n",
    "#kernel = 'linear'\n",
    "#C = 0.001\n",
    "#decision_function_shape = 'ovr'\n",
    "\n",
    "args = ['linear', 0.001, 'ovr']\n",
    "\n",
    "smSVC4Model, smSVC4Accuracy, smSVC4Precision, smSVC4Recall = classify('SVC', X, y, args)"
   ]
  },
  {
   "cell_type": "code",
   "execution_count": 32,
   "metadata": {},
   "outputs": [
    {
     "name": "stdout",
     "output_type": "stream",
     "text": [
      "\n",
      "Best Accuracy:  0.9482758620689655\n"
     ]
    }
   ],
   "source": [
    "#decision Tree 1\n",
    "\n",
    "#max_features = 6\n",
    "#criterion = 'gini'\n",
    "\n",
    "args = [6, 'gini']\n",
    "\n",
    "dt1Model, dt1Accuracy, dt1Precision, dt1Recall = classify('DecisionTreeClassifier', X, y, args)"
   ]
  },
  {
   "cell_type": "code",
   "execution_count": 33,
   "metadata": {},
   "outputs": [
    {
     "name": "stdout",
     "output_type": "stream",
     "text": [
      "\n",
      "Best Accuracy:  0.9396551724137931\n"
     ]
    }
   ],
   "source": [
    "#decision Tree 2\n",
    "\n",
    "#max_features = 6\n",
    "#criterion = 'entropy'\n",
    "\n",
    "args = [6, 'entropy']\n",
    "\n",
    "dt2Model, dt2Accuracy, dt2Precision, dt2Recall = classify('DecisionTreeClassifier', X, y, args)"
   ]
  },
  {
   "cell_type": "code",
   "execution_count": 72,
   "metadata": {},
   "outputs": [
    {
     "name": "stderr",
     "output_type": "stream",
     "text": [
      "c:\\users\\anoos\\appdata\\local\\programs\\python\\python36\\lib\\site-packages\\sklearn\\ensemble\\forest.py:453: UserWarning: Some inputs do not have OOB scores. This probably means too few trees were used to compute any reliable oob estimates.\n",
      "  warn(\"Some inputs do not have OOB scores. \"\n",
      "c:\\users\\anoos\\appdata\\local\\programs\\python\\python36\\lib\\site-packages\\sklearn\\ensemble\\forest.py:458: RuntimeWarning: invalid value encountered in true_divide\n",
      "  predictions[k].sum(axis=1)[:, np.newaxis])\n",
      "c:\\users\\anoos\\appdata\\local\\programs\\python\\python36\\lib\\site-packages\\sklearn\\ensemble\\forest.py:453: UserWarning: Some inputs do not have OOB scores. This probably means too few trees were used to compute any reliable oob estimates.\n",
      "  warn(\"Some inputs do not have OOB scores. \"\n",
      "c:\\users\\anoos\\appdata\\local\\programs\\python\\python36\\lib\\site-packages\\sklearn\\ensemble\\forest.py:458: RuntimeWarning: invalid value encountered in true_divide\n",
      "  predictions[k].sum(axis=1)[:, np.newaxis])\n",
      "c:\\users\\anoos\\appdata\\local\\programs\\python\\python36\\lib\\site-packages\\sklearn\\ensemble\\forest.py:453: UserWarning: Some inputs do not have OOB scores. This probably means too few trees were used to compute any reliable oob estimates.\n",
      "  warn(\"Some inputs do not have OOB scores. \"\n",
      "c:\\users\\anoos\\appdata\\local\\programs\\python\\python36\\lib\\site-packages\\sklearn\\ensemble\\forest.py:458: RuntimeWarning: invalid value encountered in true_divide\n",
      "  predictions[k].sum(axis=1)[:, np.newaxis])\n",
      "c:\\users\\anoos\\appdata\\local\\programs\\python\\python36\\lib\\site-packages\\sklearn\\ensemble\\forest.py:453: UserWarning: Some inputs do not have OOB scores. This probably means too few trees were used to compute any reliable oob estimates.\n",
      "  warn(\"Some inputs do not have OOB scores. \"\n",
      "c:\\users\\anoos\\appdata\\local\\programs\\python\\python36\\lib\\site-packages\\sklearn\\ensemble\\forest.py:458: RuntimeWarning: invalid value encountered in true_divide\n",
      "  predictions[k].sum(axis=1)[:, np.newaxis])\n",
      "c:\\users\\anoos\\appdata\\local\\programs\\python\\python36\\lib\\site-packages\\sklearn\\ensemble\\forest.py:453: UserWarning: Some inputs do not have OOB scores. This probably means too few trees were used to compute any reliable oob estimates.\n",
      "  warn(\"Some inputs do not have OOB scores. \"\n",
      "c:\\users\\anoos\\appdata\\local\\programs\\python\\python36\\lib\\site-packages\\sklearn\\ensemble\\forest.py:458: RuntimeWarning: invalid value encountered in true_divide\n",
      "  predictions[k].sum(axis=1)[:, np.newaxis])\n",
      "c:\\users\\anoos\\appdata\\local\\programs\\python\\python36\\lib\\site-packages\\sklearn\\ensemble\\forest.py:453: UserWarning: Some inputs do not have OOB scores. This probably means too few trees were used to compute any reliable oob estimates.\n",
      "  warn(\"Some inputs do not have OOB scores. \"\n",
      "c:\\users\\anoos\\appdata\\local\\programs\\python\\python36\\lib\\site-packages\\sklearn\\ensemble\\forest.py:458: RuntimeWarning: invalid value encountered in true_divide\n",
      "  predictions[k].sum(axis=1)[:, np.newaxis])\n",
      "c:\\users\\anoos\\appdata\\local\\programs\\python\\python36\\lib\\site-packages\\sklearn\\ensemble\\forest.py:453: UserWarning: Some inputs do not have OOB scores. This probably means too few trees were used to compute any reliable oob estimates.\n",
      "  warn(\"Some inputs do not have OOB scores. \"\n",
      "c:\\users\\anoos\\appdata\\local\\programs\\python\\python36\\lib\\site-packages\\sklearn\\ensemble\\forest.py:458: RuntimeWarning: invalid value encountered in true_divide\n",
      "  predictions[k].sum(axis=1)[:, np.newaxis])\n",
      "c:\\users\\anoos\\appdata\\local\\programs\\python\\python36\\lib\\site-packages\\sklearn\\ensemble\\forest.py:453: UserWarning: Some inputs do not have OOB scores. This probably means too few trees were used to compute any reliable oob estimates.\n",
      "  warn(\"Some inputs do not have OOB scores. \"\n",
      "c:\\users\\anoos\\appdata\\local\\programs\\python\\python36\\lib\\site-packages\\sklearn\\ensemble\\forest.py:458: RuntimeWarning: invalid value encountered in true_divide\n",
      "  predictions[k].sum(axis=1)[:, np.newaxis])\n"
     ]
    },
    {
     "name": "stdout",
     "output_type": "stream",
     "text": [
      "\n",
      "Best Accuracy:  0.9482758620689655\n"
     ]
    },
    {
     "name": "stderr",
     "output_type": "stream",
     "text": [
      "c:\\users\\anoos\\appdata\\local\\programs\\python\\python36\\lib\\site-packages\\sklearn\\ensemble\\forest.py:453: UserWarning: Some inputs do not have OOB scores. This probably means too few trees were used to compute any reliable oob estimates.\n",
      "  warn(\"Some inputs do not have OOB scores. \"\n",
      "c:\\users\\anoos\\appdata\\local\\programs\\python\\python36\\lib\\site-packages\\sklearn\\ensemble\\forest.py:458: RuntimeWarning: invalid value encountered in true_divide\n",
      "  predictions[k].sum(axis=1)[:, np.newaxis])\n",
      "c:\\users\\anoos\\appdata\\local\\programs\\python\\python36\\lib\\site-packages\\sklearn\\ensemble\\forest.py:453: UserWarning: Some inputs do not have OOB scores. This probably means too few trees were used to compute any reliable oob estimates.\n",
      "  warn(\"Some inputs do not have OOB scores. \"\n",
      "c:\\users\\anoos\\appdata\\local\\programs\\python\\python36\\lib\\site-packages\\sklearn\\ensemble\\forest.py:458: RuntimeWarning: invalid value encountered in true_divide\n",
      "  predictions[k].sum(axis=1)[:, np.newaxis])\n"
     ]
    }
   ],
   "source": [
    "#Random Forest Classification 1\n",
    "\n",
    "#n_estimators = 20\n",
    "#criterion = gini\n",
    "#max_features = 6\n",
    "#max_depth = 5\n",
    "\n",
    "args = [20, 'gini', 6, 5]\n",
    "\n",
    "rf1Model, rf1Accuracy, rf1Precision, rf1Recall = classify('RandomForestClassifier', X, y, args)"
   ]
  },
  {
   "cell_type": "code",
   "execution_count": 73,
   "metadata": {},
   "outputs": [
    {
     "name": "stderr",
     "output_type": "stream",
     "text": [
      "c:\\users\\anoos\\appdata\\local\\programs\\python\\python36\\lib\\site-packages\\sklearn\\ensemble\\forest.py:453: UserWarning: Some inputs do not have OOB scores. This probably means too few trees were used to compute any reliable oob estimates.\n",
      "  warn(\"Some inputs do not have OOB scores. \"\n",
      "c:\\users\\anoos\\appdata\\local\\programs\\python\\python36\\lib\\site-packages\\sklearn\\ensemble\\forest.py:458: RuntimeWarning: invalid value encountered in true_divide\n",
      "  predictions[k].sum(axis=1)[:, np.newaxis])\n",
      "c:\\users\\anoos\\appdata\\local\\programs\\python\\python36\\lib\\site-packages\\sklearn\\ensemble\\forest.py:453: UserWarning: Some inputs do not have OOB scores. This probably means too few trees were used to compute any reliable oob estimates.\n",
      "  warn(\"Some inputs do not have OOB scores. \"\n",
      "c:\\users\\anoos\\appdata\\local\\programs\\python\\python36\\lib\\site-packages\\sklearn\\ensemble\\forest.py:458: RuntimeWarning: invalid value encountered in true_divide\n",
      "  predictions[k].sum(axis=1)[:, np.newaxis])\n",
      "c:\\users\\anoos\\appdata\\local\\programs\\python\\python36\\lib\\site-packages\\sklearn\\ensemble\\forest.py:453: UserWarning: Some inputs do not have OOB scores. This probably means too few trees were used to compute any reliable oob estimates.\n",
      "  warn(\"Some inputs do not have OOB scores. \"\n",
      "c:\\users\\anoos\\appdata\\local\\programs\\python\\python36\\lib\\site-packages\\sklearn\\ensemble\\forest.py:458: RuntimeWarning: invalid value encountered in true_divide\n",
      "  predictions[k].sum(axis=1)[:, np.newaxis])\n",
      "c:\\users\\anoos\\appdata\\local\\programs\\python\\python36\\lib\\site-packages\\sklearn\\ensemble\\forest.py:453: UserWarning: Some inputs do not have OOB scores. This probably means too few trees were used to compute any reliable oob estimates.\n",
      "  warn(\"Some inputs do not have OOB scores. \"\n",
      "c:\\users\\anoos\\appdata\\local\\programs\\python\\python36\\lib\\site-packages\\sklearn\\ensemble\\forest.py:458: RuntimeWarning: invalid value encountered in true_divide\n",
      "  predictions[k].sum(axis=1)[:, np.newaxis])\n",
      "c:\\users\\anoos\\appdata\\local\\programs\\python\\python36\\lib\\site-packages\\sklearn\\ensemble\\forest.py:453: UserWarning: Some inputs do not have OOB scores. This probably means too few trees were used to compute any reliable oob estimates.\n",
      "  warn(\"Some inputs do not have OOB scores. \"\n",
      "c:\\users\\anoos\\appdata\\local\\programs\\python\\python36\\lib\\site-packages\\sklearn\\ensemble\\forest.py:458: RuntimeWarning: invalid value encountered in true_divide\n",
      "  predictions[k].sum(axis=1)[:, np.newaxis])\n",
      "c:\\users\\anoos\\appdata\\local\\programs\\python\\python36\\lib\\site-packages\\sklearn\\ensemble\\forest.py:453: UserWarning: Some inputs do not have OOB scores. This probably means too few trees were used to compute any reliable oob estimates.\n",
      "  warn(\"Some inputs do not have OOB scores. \"\n",
      "c:\\users\\anoos\\appdata\\local\\programs\\python\\python36\\lib\\site-packages\\sklearn\\ensemble\\forest.py:458: RuntimeWarning: invalid value encountered in true_divide\n",
      "  predictions[k].sum(axis=1)[:, np.newaxis])\n",
      "c:\\users\\anoos\\appdata\\local\\programs\\python\\python36\\lib\\site-packages\\sklearn\\ensemble\\forest.py:453: UserWarning: Some inputs do not have OOB scores. This probably means too few trees were used to compute any reliable oob estimates.\n",
      "  warn(\"Some inputs do not have OOB scores. \"\n",
      "c:\\users\\anoos\\appdata\\local\\programs\\python\\python36\\lib\\site-packages\\sklearn\\ensemble\\forest.py:458: RuntimeWarning: invalid value encountered in true_divide\n",
      "  predictions[k].sum(axis=1)[:, np.newaxis])\n",
      "c:\\users\\anoos\\appdata\\local\\programs\\python\\python36\\lib\\site-packages\\sklearn\\ensemble\\forest.py:453: UserWarning: Some inputs do not have OOB scores. This probably means too few trees were used to compute any reliable oob estimates.\n",
      "  warn(\"Some inputs do not have OOB scores. \"\n",
      "c:\\users\\anoos\\appdata\\local\\programs\\python\\python36\\lib\\site-packages\\sklearn\\ensemble\\forest.py:458: RuntimeWarning: invalid value encountered in true_divide\n",
      "  predictions[k].sum(axis=1)[:, np.newaxis])\n"
     ]
    },
    {
     "name": "stdout",
     "output_type": "stream",
     "text": [
      "\n",
      "Best Accuracy:  0.9310344827586207\n"
     ]
    },
    {
     "name": "stderr",
     "output_type": "stream",
     "text": [
      "c:\\users\\anoos\\appdata\\local\\programs\\python\\python36\\lib\\site-packages\\sklearn\\ensemble\\forest.py:453: UserWarning: Some inputs do not have OOB scores. This probably means too few trees were used to compute any reliable oob estimates.\n",
      "  warn(\"Some inputs do not have OOB scores. \"\n",
      "c:\\users\\anoos\\appdata\\local\\programs\\python\\python36\\lib\\site-packages\\sklearn\\ensemble\\forest.py:458: RuntimeWarning: invalid value encountered in true_divide\n",
      "  predictions[k].sum(axis=1)[:, np.newaxis])\n",
      "c:\\users\\anoos\\appdata\\local\\programs\\python\\python36\\lib\\site-packages\\sklearn\\ensemble\\forest.py:453: UserWarning: Some inputs do not have OOB scores. This probably means too few trees were used to compute any reliable oob estimates.\n",
      "  warn(\"Some inputs do not have OOB scores. \"\n",
      "c:\\users\\anoos\\appdata\\local\\programs\\python\\python36\\lib\\site-packages\\sklearn\\ensemble\\forest.py:458: RuntimeWarning: invalid value encountered in true_divide\n",
      "  predictions[k].sum(axis=1)[:, np.newaxis])\n"
     ]
    }
   ],
   "source": [
    "#Random Forest Classification 2\n",
    "\n",
    "#n_estimators = 20\n",
    "#criterion = entropy\n",
    "#max_features = 6\n",
    "#max_depth = 5\n",
    "\n",
    "args = [20, 'entropy', 6, 5]\n",
    "\n",
    "rf2Model, rf2Accuracy, rf2Precision, rf2Recall = classify('RandomForestClassifier', X, y, args)"
   ]
  },
  {
   "cell_type": "code",
   "execution_count": 76,
   "metadata": {},
   "outputs": [
    {
     "name": "stderr",
     "output_type": "stream",
     "text": [
      "c:\\users\\anoos\\appdata\\local\\programs\\python\\python36\\lib\\site-packages\\sklearn\\neural_network\\multilayer_perceptron.py:564: ConvergenceWarning: Stochastic Optimizer: Maximum iterations (500) reached and the optimization hasn't converged yet.\n",
      "  % self.max_iter, ConvergenceWarning)\n"
     ]
    },
    {
     "name": "stdout",
     "output_type": "stream",
     "text": [
      "\n",
      "Best Accuracy:  0.9224137931034483\n"
     ]
    }
   ],
   "source": [
    "#Multi Layer Perceptron Classification 1\n",
    "\n",
    "#hidden_layer_sizes = 30\n",
    "#activation = relu\n",
    "#solver = adam\n",
    "\n",
    "args = [30, 'relu', 'adam']\n",
    "\n",
    "mlp1Model, mlp1Accuracy, mlp1Precision, mlp1Recall = classify('MLPClassifier', X, y, args)"
   ]
  },
  {
   "cell_type": "code",
   "execution_count": 77,
   "metadata": {},
   "outputs": [
    {
     "name": "stdout",
     "output_type": "stream",
     "text": [
      "\n",
      "Best Accuracy:  0.9655172413793104\n"
     ]
    }
   ],
   "source": [
    "#Multi Layer Perceptron Classification 2\n",
    "\n",
    "#hidden_layer_sizes = 50\n",
    "#activation = tanh\n",
    "#solver = lbfgs\n",
    "\n",
    "args = [50, 'tanh', 'lbfgs']\n",
    "\n",
    "mlp2Model, mlp2Accuracy, mlp2Precision, mlp2Recall = classify('MLPClassifier', X, y, args)"
   ]
  },
  {
   "cell_type": "markdown",
   "metadata": {},
   "source": [
    "3 <br>\n",
    "    trimCutoff = 5s <br>\n",
    "    windowSize = 8s <br>\n",
    "    overlapping = False <br>\n",
    "    overlappingFactor = 0 <br>"
   ]
  },
  {
   "cell_type": "code",
   "execution_count": null,
   "metadata": {},
   "outputs": [],
   "source": [
    "#windowing parameters\n",
    "trimCutoff = 5\n",
    "windowSize = 8\n",
    "overlapping = False\n",
    "overlappingFactor = 0"
   ]
  },
  {
   "cell_type": "code",
   "execution_count": null,
   "metadata": {},
   "outputs": [],
   "source": [
    "#create data\n",
    "df = createDataframe(windowSize, trimCutoff, overlapping, overlappingFactor)\n",
    "X, y = createDataMatrix(df)\n",
    "\n",
    "print(\"Shape of X: \", X.shape)\n",
    "print(\"Shape of Y: \", y.shape)"
   ]
  },
  {
   "cell_type": "code",
   "execution_count": null,
   "metadata": {},
   "outputs": [],
   "source": [
    "#logistic Regression\n",
    "lrModel, lrAccuracy, lrPrecision, lrRecall = classify('LogisticRegression', X, y)"
   ]
  },
  {
   "cell_type": "code",
   "execution_count": null,
   "metadata": {},
   "outputs": [],
   "source": [
    "#hard margin SVM 1\n",
    "\n",
    "#kernel = 'rbf'\n",
    "#C = 1000\n",
    "#decision_function_shape = 'ovo'\n",
    "\n",
    "args = ['rbf', 1000, 'ovo']\n",
    "\n",
    "hmSVC1Model, hmSVC1Accuracy, hmSVC1Precision, hmSVC1Recall = classify('SVC', X, y, args)"
   ]
  },
  {
   "cell_type": "code",
   "execution_count": null,
   "metadata": {},
   "outputs": [],
   "source": [
    "#hard margin SVM 2\n",
    "\n",
    "#kernel = 'rbf'\n",
    "#C = 1000\n",
    "#decision_function_shape = 'ovr'\n",
    "\n",
    "args = ['rbf', 1000, 'ovr']\n",
    "\n",
    "hmSVC2Model, hmSVC2Accuracy, hmSVC2Precision, hmSVC2Recall = classify('SVC', X, y, args)"
   ]
  },
  {
   "cell_type": "code",
   "execution_count": null,
   "metadata": {},
   "outputs": [],
   "source": [
    "#hard margin SVM 3\n",
    "\n",
    "#kernel = 'linear'\n",
    "#C = 1000\n",
    "#decision_function_shape = 'ovo'\n",
    "\n",
    "args = ['linear', 1000, 'ovo']\n",
    "\n",
    "hmSVC3Model, hmSVC3Accuracy, hmSVC3Precision, hmSVC3Recall = classify('SVC', X, y, args)"
   ]
  },
  {
   "cell_type": "code",
   "execution_count": null,
   "metadata": {},
   "outputs": [],
   "source": [
    "#hard margin SVM 4\n",
    "\n",
    "#kernel = 'linear'\n",
    "#C = 1000\n",
    "#decision_function_shape = 'ovr'\n",
    "\n",
    "args = ['linear', 1000, 'ovr']\n",
    "\n",
    "hmSVC4Model, hmSVC4Accuracy, hmSVC4Precision, hmSVC4Recall = classify('SVC', X, y, args)"
   ]
  },
  {
   "cell_type": "code",
   "execution_count": null,
   "metadata": {},
   "outputs": [],
   "source": [
    "#soft margin SVM 1\n",
    "\n",
    "#kernel = 'rbf'\n",
    "#C = 0.001\n",
    "#decision_function_shape = 'ovo'\n",
    "\n",
    "args = ['rbf', 0.001, 'ovo']\n",
    "\n",
    "smSVC1Model, smSVC1Accuracy, smSVC1Precision, smSVC1Recall = classify('SVC', X, y, args)"
   ]
  },
  {
   "cell_type": "code",
   "execution_count": null,
   "metadata": {},
   "outputs": [],
   "source": [
    "#soft margin SVM 2\n",
    "\n",
    "#kernel = 'rbf'\n",
    "#C = 0.001\n",
    "#decision_function_shape = 'ovr'\n",
    "\n",
    "args = ['rbf', 0.001, 'ovr']\n",
    "\n",
    "smSVC2Model, smSVC2Accuracy, smSVC2Precision, smSVC2Recall = classify('SVC', X, y, args)"
   ]
  },
  {
   "cell_type": "code",
   "execution_count": null,
   "metadata": {},
   "outputs": [],
   "source": [
    "#soft margin SVM 3\n",
    "\n",
    "#kernel = 'linear'\n",
    "#C = 0.001\n",
    "#decision_function_shape = 'ovo'\n",
    "\n",
    "args = ['linear', 0.001, 'ovo']\n",
    "\n",
    "smSVC3Model, smSVC3Accuracy, smSVC3Precision, smSVC3Recall = classify('SVC', X, y, args)"
   ]
  },
  {
   "cell_type": "code",
   "execution_count": null,
   "metadata": {},
   "outputs": [],
   "source": [
    "#soft margin SVM 4\n",
    "\n",
    "#kernel = 'linear'\n",
    "#C = 0.001\n",
    "#decision_function_shape = 'ovr'\n",
    "\n",
    "args = ['linear', 0.001, 'ovr']\n",
    "\n",
    "smSVC4Model, smSVC4Accuracy, smSVC4Precision, smSVC4Recall = classify('SVC', X, y, args)"
   ]
  },
  {
   "cell_type": "code",
   "execution_count": null,
   "metadata": {},
   "outputs": [],
   "source": [
    "#decision Tree 1\n",
    "\n",
    "#max_features = 6\n",
    "#criterion = 'gini'\n",
    "\n",
    "args = [6, 'gini']\n",
    "\n",
    "dt1Model, dt1Accuracy, dt1Precision, dt1Recall = classify('DecisionTreeClassifier', X, y, args)"
   ]
  },
  {
   "cell_type": "code",
   "execution_count": null,
   "metadata": {},
   "outputs": [],
   "source": [
    "#decision Tree 2\n",
    "\n",
    "#max_features = 6\n",
    "#criterion = 'entropy'\n",
    "\n",
    "args = [6, 'entropy']\n",
    "\n",
    "dt2Model, dt2Accuracy, dt2Precision, dt2Recall = classify('DecisionTreeClassifier', X, y, args)"
   ]
  },
  {
   "cell_type": "markdown",
   "metadata": {},
   "source": [
    "4<br>\n",
    "    trimCutoff = 5s <br>\n",
    "    windowSize = 4s <br>\n",
    "    overlapping = True <br>\n",
    "    overlappingFactor = 0.5 <br>"
   ]
  },
  {
   "cell_type": "code",
   "execution_count": 34,
   "metadata": {},
   "outputs": [],
   "source": [
    "#windowing parameters\n",
    "trimCutoff = 5\n",
    "windowSize = 4\n",
    "overlapping = True\n",
    "overlappingFactor = 0.5"
   ]
  },
  {
   "cell_type": "code",
   "execution_count": 36,
   "metadata": {},
   "outputs": [
    {
     "name": "stdout",
     "output_type": "stream",
     "text": [
      "Shape of X:  (2310, 6)\n",
      "Shape of Y:  (2310,)\n"
     ]
    },
    {
     "name": "stderr",
     "output_type": "stream",
     "text": [
      "c:\\users\\anoos\\appdata\\local\\programs\\python\\python36\\lib\\site-packages\\sklearn\\utils\\validation.py:475: DataConversionWarning: Data with input dtype object was converted to float64 by StandardScaler.\n",
      "  warnings.warn(msg, DataConversionWarning)\n"
     ]
    }
   ],
   "source": [
    "#create data\n",
    "o_df = createDataframe(windowSize, trimCutoff, overlapping, overlappingFactor)\n",
    "o_X, o_y = createDataMatrix(o_df)\n",
    "\n",
    "print(\"Shape of X: \", o_X.shape)\n",
    "print(\"Shape of Y: \", o_y.shape)"
   ]
  },
  {
   "cell_type": "code",
   "execution_count": 57,
   "metadata": {},
   "outputs": [
    {
     "name": "stdout",
     "output_type": "stream",
     "text": [
      "\n",
      "Best Accuracy:  0.8354978354978355\n"
     ]
    }
   ],
   "source": [
    "#logistic Regression\n",
    "o_lrModel, o_lrAccuracy, o_lrPrecision, o_lrRecall = classify('LogisticRegression', o_X, o_y)"
   ]
  },
  {
   "cell_type": "code",
   "execution_count": 58,
   "metadata": {},
   "outputs": [
    {
     "name": "stdout",
     "output_type": "stream",
     "text": [
      "\n",
      "Best Accuracy:  0.961038961038961\n"
     ]
    }
   ],
   "source": [
    "#hard margin SVM 1\n",
    "\n",
    "#kernel = 'rbf'\n",
    "#C = 1000\n",
    "#decision_function_shape = 'ovo'\n",
    "\n",
    "args = ['rbf', 1000, 'ovo']\n",
    "\n",
    "o_hmSVC1Model, o_hmSVC1Accuracy, o_hmSVC1Precision, o_hmSVC1Recall = classify('SVC', o_X, o_y, args)"
   ]
  },
  {
   "cell_type": "code",
   "execution_count": 60,
   "metadata": {},
   "outputs": [
    {
     "name": "stdout",
     "output_type": "stream",
     "text": [
      "\n",
      "Best Accuracy:  0.9523809523809523\n"
     ]
    }
   ],
   "source": [
    "#hard margin SVM 2\n",
    "\n",
    "#kernel = 'rbf'\n",
    "#C = 1000\n",
    "#decision_function_shape = 'ovr'\n",
    "\n",
    "args = ['rbf', 1000, 'ovr']\n",
    "\n",
    "o_hmSVC2Model, o_hmSVC2Accuracy, o_hmSVC2Precision, o_hmSVC2Recall = classify('SVC', o_X, o_y, args)"
   ]
  },
  {
   "cell_type": "code",
   "execution_count": 61,
   "metadata": {},
   "outputs": [
    {
     "name": "stdout",
     "output_type": "stream",
     "text": [
      "\n",
      "Best Accuracy:  0.7922077922077922\n"
     ]
    }
   ],
   "source": [
    "#hard margin SVM 3\n",
    "\n",
    "#kernel = 'linear'\n",
    "#C = 1000\n",
    "#decision_function_shape = 'ovo'\n",
    "\n",
    "args = ['linear', 1000, 'ovo']\n",
    "\n",
    "o_hmSVC3Model, o_hmSVC3Accuracy, o_hmSVC3Precision, o_hmSVC3Recall = classify('SVC', o_X, o_y, args)"
   ]
  },
  {
   "cell_type": "code",
   "execution_count": 62,
   "metadata": {},
   "outputs": [
    {
     "name": "stdout",
     "output_type": "stream",
     "text": [
      "\n",
      "Best Accuracy:  0.7922077922077922\n"
     ]
    }
   ],
   "source": [
    "#hard margin SVM 4\n",
    "\n",
    "#kernel = 'linear'\n",
    "#C = 1000\n",
    "#decision_function_shape = 'ovr'\n",
    "\n",
    "args = ['linear', 1000, 'ovr']\n",
    "\n",
    "o_hmSVC4Model, o_hmSVC4Accuracy, o_hmSVC4Precision, o_hmSVC4Recall = classify('SVC', o_X, o_y, args)"
   ]
  },
  {
   "cell_type": "code",
   "execution_count": 63,
   "metadata": {},
   "outputs": [
    {
     "name": "stderr",
     "output_type": "stream",
     "text": [
      "c:\\users\\anoos\\appdata\\local\\programs\\python\\python36\\lib\\site-packages\\sklearn\\metrics\\classification.py:1135: UndefinedMetricWarning: Precision is ill-defined and being set to 0.0 in labels with no predicted samples.\n",
      "  'precision', 'predicted', average, warn_for)\n"
     ]
    },
    {
     "name": "stdout",
     "output_type": "stream",
     "text": [
      "\n",
      "Best Accuracy:  0.33766233766233766\n"
     ]
    }
   ],
   "source": [
    "#soft margin SVM 1\n",
    "\n",
    "#kernel = 'rbf'\n",
    "#C = 0.001\n",
    "#decision_function_shape = 'ovo'\n",
    "\n",
    "args = ['rbf', 0.001, 'ovo']\n",
    "\n",
    "o_smSVC1Model, o_smSVC1Accuracy, o_smSVC1Precision, o_smSVC1Recall = classify('SVC', o_X, o_y, args)"
   ]
  },
  {
   "cell_type": "code",
   "execution_count": 64,
   "metadata": {},
   "outputs": [
    {
     "name": "stderr",
     "output_type": "stream",
     "text": [
      "c:\\users\\anoos\\appdata\\local\\programs\\python\\python36\\lib\\site-packages\\sklearn\\metrics\\classification.py:1135: UndefinedMetricWarning: Precision is ill-defined and being set to 0.0 in labels with no predicted samples.\n",
      "  'precision', 'predicted', average, warn_for)\n"
     ]
    },
    {
     "name": "stdout",
     "output_type": "stream",
     "text": [
      "\n",
      "Best Accuracy:  0.36796536796536794\n"
     ]
    }
   ],
   "source": [
    "#soft margin SVM 2\n",
    "\n",
    "#kernel = 'rbf'\n",
    "#C = 0.001\n",
    "#decision_function_shape = 'ovr'\n",
    "\n",
    "args = ['rbf', 0.001, 'ovr']\n",
    "\n",
    "o_smSVC2Model, o_smSVC2Accuracy, o_smSVC2Precision, o_smSVC2Recall = classify('SVC', o_X, o_y, args)"
   ]
  },
  {
   "cell_type": "code",
   "execution_count": 65,
   "metadata": {},
   "outputs": [
    {
     "name": "stderr",
     "output_type": "stream",
     "text": [
      "c:\\users\\anoos\\appdata\\local\\programs\\python\\python36\\lib\\site-packages\\sklearn\\metrics\\classification.py:1135: UndefinedMetricWarning: Precision is ill-defined and being set to 0.0 in labels with no predicted samples.\n",
      "  'precision', 'predicted', average, warn_for)\n"
     ]
    },
    {
     "name": "stdout",
     "output_type": "stream",
     "text": [
      "\n",
      "Best Accuracy:  0.5757575757575758\n"
     ]
    }
   ],
   "source": [
    "#soft margin SVM 3\n",
    "\n",
    "#kernel = 'linear'\n",
    "#C = 0.001\n",
    "#decision_function_shape = 'ovo'\n",
    "\n",
    "args = ['linear', 0.001, 'ovo']\n",
    "\n",
    "o_smSVC3Model, o_smSVC3Accuracy, o_smSVC3Precision, o_smSVC3Recall = classify('SVC', o_X, o_y, args)"
   ]
  },
  {
   "cell_type": "code",
   "execution_count": 66,
   "metadata": {},
   "outputs": [
    {
     "name": "stderr",
     "output_type": "stream",
     "text": [
      "c:\\users\\anoos\\appdata\\local\\programs\\python\\python36\\lib\\site-packages\\sklearn\\metrics\\classification.py:1135: UndefinedMetricWarning: Precision is ill-defined and being set to 0.0 in labels with no predicted samples.\n",
      "  'precision', 'predicted', average, warn_for)\n"
     ]
    },
    {
     "name": "stdout",
     "output_type": "stream",
     "text": [
      "\n",
      "Best Accuracy:  0.6103896103896104\n"
     ]
    }
   ],
   "source": [
    "#soft margin SVM 4\n",
    "\n",
    "#kernel = 'linear'\n",
    "#C = 0.001\n",
    "#decision_function_shape = 'ovr'\n",
    "\n",
    "args = ['linear', 0.001, 'ovr']\n",
    "\n",
    "o_smSVC4Model, o_smSVC4Accuracy, o_smSVC4Precision, o_smSVC4Recall = classify('SVC', o_X, o_y, args)"
   ]
  },
  {
   "cell_type": "code",
   "execution_count": 67,
   "metadata": {},
   "outputs": [
    {
     "name": "stdout",
     "output_type": "stream",
     "text": [
      "\n",
      "Best Accuracy:  0.9523809523809523\n"
     ]
    }
   ],
   "source": [
    "#decision Tree 1\n",
    "\n",
    "#max_features = 6\n",
    "#criterion = 'gini'\n",
    "\n",
    "args = [6, 'gini']\n",
    "\n",
    "o_dt1Model, o_dt1Accuracy, o_dt1Precision, o_dt1Recall = classify('DecisionTreeClassifier', o_X, o_y, args)"
   ]
  },
  {
   "cell_type": "code",
   "execution_count": 68,
   "metadata": {},
   "outputs": [
    {
     "name": "stdout",
     "output_type": "stream",
     "text": [
      "\n",
      "Best Accuracy:  0.961038961038961\n"
     ]
    }
   ],
   "source": [
    "#decision Tree 2\n",
    "\n",
    "#max_features = 6\n",
    "#criterion = 'entropy'\n",
    "\n",
    "args = [6, 'entropy']\n",
    "\n",
    "o_dt2Model, o_dt2Accuracy, o_dt2Precision, o_dt2Recall = classify('DecisionTreeClassifier', o_X, o_y, args)"
   ]
  },
  {
   "cell_type": "markdown",
   "metadata": {},
   "source": [
    "5 <br>\n",
    "    trimCutoff = 5s <br>\n",
    "    windowSize = 8s <br>\n",
    "    overlapping = True <br>\n",
    "    overlappingFactor = 0.5 <br>"
   ]
  },
  {
   "cell_type": "code",
   "execution_count": null,
   "metadata": {},
   "outputs": [],
   "source": [
    "#windowing parameters\n",
    "trimCutoff = 5\n",
    "windowSize = 8\n",
    "overlapping = True\n",
    "overlappingFactor = 0.5"
   ]
  },
  {
   "cell_type": "code",
   "execution_count": null,
   "metadata": {},
   "outputs": [],
   "source": [
    "#create data\n",
    "df = createDataframe(windowSize, trimCutoff, overlapping, overlappingFactor)\n",
    "X, y = createDataMatrix(df)\n",
    "\n",
    "print(\"Shape of X: \", X.shape)\n",
    "print(\"Shape of Y: \", y.shape)"
   ]
  },
  {
   "cell_type": "code",
   "execution_count": null,
   "metadata": {},
   "outputs": [],
   "source": [
    "#logistic Regression\n",
    "lrModel, lrAccuracy, lrPrecision, lrRecall = classify('LogisticRegression', X, y)"
   ]
  },
  {
   "cell_type": "code",
   "execution_count": null,
   "metadata": {},
   "outputs": [],
   "source": [
    "#hard margin SVM 1\n",
    "\n",
    "#kernel = 'rbf'\n",
    "#C = 1000\n",
    "#decision_function_shape = 'ovo'\n",
    "\n",
    "args = ['rbf', 1000, 'ovo']\n",
    "\n",
    "hmSVC1Model, hmSVC1Accuracy, hmSVC1Precision, hmSVC1Recall = classify('SVC', X, y, args)"
   ]
  },
  {
   "cell_type": "code",
   "execution_count": null,
   "metadata": {},
   "outputs": [],
   "source": [
    "#hard margin SVM 2\n",
    "\n",
    "#kernel = 'rbf'\n",
    "#C = 1000\n",
    "#decision_function_shape = 'ovr'\n",
    "\n",
    "args = ['rbf', 1000, 'ovr']\n",
    "\n",
    "hmSVC2Model, hmSVC2Accuracy, hmSVC2Precision, hmSVC2Recall = classify('SVC', X, y, args)"
   ]
  },
  {
   "cell_type": "code",
   "execution_count": null,
   "metadata": {},
   "outputs": [],
   "source": [
    "#hard margin SVM 3\n",
    "\n",
    "#kernel = 'linear'\n",
    "#C = 1000\n",
    "#decision_function_shape = 'ovo'\n",
    "\n",
    "args = ['linear', 1000, 'ovo']\n",
    "\n",
    "hmSVC3Model, hmSVC3Accuracy, hmSVC3Precision, hmSVC3Recall = classify('SVC', X, y, args)"
   ]
  },
  {
   "cell_type": "code",
   "execution_count": null,
   "metadata": {},
   "outputs": [],
   "source": [
    "#hard margin SVM 4\n",
    "\n",
    "#kernel = 'linear'\n",
    "#C = 1000\n",
    "#decision_function_shape = 'ovr'\n",
    "\n",
    "args = ['linear', 1000, 'ovr']\n",
    "\n",
    "hmSVC4Model, hmSVC4Accuracy, hmSVC4Precision, hmSVC4Recall = classify('SVC', X, y, args)"
   ]
  },
  {
   "cell_type": "code",
   "execution_count": null,
   "metadata": {},
   "outputs": [],
   "source": [
    "#soft margin SVM 1\n",
    "\n",
    "#kernel = 'rbf'\n",
    "#C = 0.001\n",
    "#decision_function_shape = 'ovo'\n",
    "\n",
    "args = ['rbf', 0.001, 'ovo']\n",
    "\n",
    "smSVC1Model, smSVC1Accuracy, smSVC1Precision, smSVC1Recall = classify('SVC', X, y, args)"
   ]
  },
  {
   "cell_type": "code",
   "execution_count": null,
   "metadata": {},
   "outputs": [],
   "source": [
    "#soft margin SVM 2\n",
    "\n",
    "#kernel = 'rbf'\n",
    "#C = 0.001\n",
    "#decision_function_shape = 'ovr'\n",
    "\n",
    "args = ['rbf', 0.001, 'ovr']\n",
    "\n",
    "smSVC2Model, smSVC2Accuracy, smSVC2Precision, smSVC2Recall = classify('SVC', X, y, args)"
   ]
  },
  {
   "cell_type": "code",
   "execution_count": null,
   "metadata": {},
   "outputs": [],
   "source": [
    "#soft margin SVM 3\n",
    "\n",
    "#kernel = 'linear'\n",
    "#C = 0.001\n",
    "#decision_function_shape = 'ovo'\n",
    "\n",
    "args = ['linear', 0.001, 'ovo']\n",
    "\n",
    "smSVC3Model, smSVC3Accuracy, smSVC3Precision, smSVC3Recall = classify('SVC', X, y, args)"
   ]
  },
  {
   "cell_type": "code",
   "execution_count": null,
   "metadata": {},
   "outputs": [],
   "source": [
    "#soft margin SVM 4\n",
    "\n",
    "#kernel = 'linear'\n",
    "#C = 0.001\n",
    "#decision_function_shape = 'ovr'\n",
    "\n",
    "args = ['linear', 0.001, 'ovr']\n",
    "\n",
    "smSVC4Model, smSVC4Accuracy, smSVC4Precision, smSVC4Recall = classify('SVC', X, y, args)"
   ]
  },
  {
   "cell_type": "code",
   "execution_count": null,
   "metadata": {},
   "outputs": [],
   "source": [
    "#decision Tree 1\n",
    "\n",
    "#max_features = 6\n",
    "#criterion = 'gini'\n",
    "\n",
    "args = [6, 'gini']\n",
    "\n",
    "dt1Model, dt1Accuracy, dt1Precision, dt1Recall = classify('DecisionTreeClassifier', X, y, args)"
   ]
  },
  {
   "cell_type": "code",
   "execution_count": null,
   "metadata": {},
   "outputs": [],
   "source": [
    "#decision Tree 2\n",
    "\n",
    "#max_features = 6\n",
    "#criterion = 'entropy'\n",
    "\n",
    "args = [6, 'entropy']\n",
    "\n",
    "dt2Model, dt2Accuracy, dt2Precision, dt2Recall = classify('DecisionTreeClassifier', X, y, args)"
   ]
  },
  {
   "cell_type": "markdown",
   "metadata": {},
   "source": [
    "6 <br>\n",
    "    trimCutoff = 5s <br>\n",
    "    windowSize = 4s <br>\n",
    "    overlapping = True <br>\n",
    "    overlappingFactor = 0.3 <br>"
   ]
  },
  {
   "cell_type": "code",
   "execution_count": null,
   "metadata": {},
   "outputs": [],
   "source": [
    "#windowing parameters\n",
    "trimCutoff = 5\n",
    "windowSize = 4\n",
    "overlapping = True\n",
    "overlappingFactor = 0.3"
   ]
  },
  {
   "cell_type": "code",
   "execution_count": null,
   "metadata": {},
   "outputs": [],
   "source": [
    "#create data\n",
    "df = createDataframe(windowSize, trimCutoff, overlapping, overlappingFactor)\n",
    "X, y = createDataMatrix(df)\n",
    "\n",
    "print(\"Shape of X: \", X.shape)\n",
    "print(\"Shape of Y: \", y.shape)"
   ]
  },
  {
   "cell_type": "code",
   "execution_count": null,
   "metadata": {},
   "outputs": [],
   "source": [
    "#logistic Regression\n",
    "lrModel, lrAccuracy, lrPrecision, lrRecall = classify('LogisticRegression', X, y)"
   ]
  },
  {
   "cell_type": "code",
   "execution_count": null,
   "metadata": {},
   "outputs": [],
   "source": [
    "#hard margin SVM 1\n",
    "\n",
    "#kernel = 'rbf'\n",
    "#C = 1000\n",
    "#decision_function_shape = 'ovo'\n",
    "\n",
    "args = ['rbf', 1000, 'ovo']\n",
    "\n",
    "hmSVC1Model, hmSVC1Accuracy, hmSVC1Precision, hmSVC1Recall = classify('SVC', X, y, args)"
   ]
  },
  {
   "cell_type": "code",
   "execution_count": null,
   "metadata": {},
   "outputs": [],
   "source": [
    "#hard margin SVM 2\n",
    "\n",
    "#kernel = 'rbf'\n",
    "#C = 1000\n",
    "#decision_function_shape = 'ovr'\n",
    "\n",
    "args = ['rbf', 1000, 'ovr']\n",
    "\n",
    "hmSVC2Model, hmSVC2Accuracy, hmSVC2Precision, hmSVC2Recall = classify('SVC', X, y, args)"
   ]
  },
  {
   "cell_type": "code",
   "execution_count": null,
   "metadata": {},
   "outputs": [],
   "source": [
    "#hard margin SVM 3\n",
    "\n",
    "#kernel = 'linear'\n",
    "#C = 1000\n",
    "#decision_function_shape = 'ovo'\n",
    "\n",
    "args = ['linear', 1000, 'ovo']\n",
    "\n",
    "hmSVC3Model, hmSVC3Accuracy, hmSVC3Precision, hmSVC3Recall = classify('SVC', X, y, args)"
   ]
  },
  {
   "cell_type": "code",
   "execution_count": null,
   "metadata": {},
   "outputs": [],
   "source": [
    "#hard margin SVM 4\n",
    "\n",
    "#kernel = 'linear'\n",
    "#C = 1000\n",
    "#decision_function_shape = 'ovr'\n",
    "\n",
    "args = ['linear', 1000, 'ovr']\n",
    "\n",
    "hmSVC4Model, hmSVC4Accuracy, hmSVC4Precision, hmSVC4Recall = classify('SVC', X, y, args)"
   ]
  },
  {
   "cell_type": "code",
   "execution_count": null,
   "metadata": {},
   "outputs": [],
   "source": [
    "#soft margin SVM 1\n",
    "\n",
    "#kernel = 'rbf'\n",
    "#C = 0.001\n",
    "#decision_function_shape = 'ovo'\n",
    "\n",
    "args = ['rbf', 0.001, 'ovo']\n",
    "\n",
    "smSVC1Model, smSVC1Accuracy, smSVC1Precision, smSVC1Recall = classify('SVC', X, y, args)"
   ]
  },
  {
   "cell_type": "code",
   "execution_count": null,
   "metadata": {},
   "outputs": [],
   "source": [
    "#soft margin SVM 2\n",
    "\n",
    "#kernel = 'rbf'\n",
    "#C = 0.001\n",
    "#decision_function_shape = 'ovr'\n",
    "\n",
    "args = ['rbf', 0.001, 'ovr']\n",
    "\n",
    "smSVC2Model, smSVC2Accuracy, smSVC2Precision, smSVC2Recall = classify('SVC', X, y, args)"
   ]
  },
  {
   "cell_type": "code",
   "execution_count": null,
   "metadata": {},
   "outputs": [],
   "source": [
    "#soft margin SVM 3\n",
    "\n",
    "#kernel = 'linear'\n",
    "#C = 0.001\n",
    "#decision_function_shape = 'ovo'\n",
    "\n",
    "args = ['linear', 0.001, 'ovo']\n",
    "\n",
    "smSVC3Model, smSVC3Accuracy, smSVC3Precision, smSVC3Recall = classify('SVC', X, y, args)"
   ]
  },
  {
   "cell_type": "code",
   "execution_count": null,
   "metadata": {},
   "outputs": [],
   "source": [
    "#soft margin SVM 4\n",
    "\n",
    "#kernel = 'linear'\n",
    "#C = 0.001\n",
    "#decision_function_shape = 'ovr'\n",
    "\n",
    "args = ['linear', 0.001, 'ovr']\n",
    "\n",
    "smSVC4Model, smSVC4Accuracy, smSVC4Precision, smSVC4Recall = classify('SVC', X, y, args)"
   ]
  },
  {
   "cell_type": "code",
   "execution_count": null,
   "metadata": {},
   "outputs": [],
   "source": [
    "#decision Tree 1\n",
    "\n",
    "#max_features = 6\n",
    "#criterion = 'gini'\n",
    "\n",
    "args = [6, 'gini']\n",
    "\n",
    "dt1Model, dt1Accuracy, dt1Precision, dt1Recall = classify('DecisionTreeClassifier', X, y, args)"
   ]
  },
  {
   "cell_type": "code",
   "execution_count": null,
   "metadata": {},
   "outputs": [],
   "source": [
    "#decision Tree 2\n",
    "\n",
    "#max_features = 6\n",
    "#criterion = 'entropy'\n",
    "\n",
    "args = [6, 'entropy']\n",
    "\n",
    "dt2Model, dt2Accuracy, dt2Precision, dt2Recall = classify('DecisionTreeClassifier', X, y, args)"
   ]
  },
  {
   "cell_type": "markdown",
   "metadata": {},
   "source": [
    "7<br>\n",
    "    trimCutoff = 5s <br>\n",
    "    windowSize = 8s <br>\n",
    "    overlapping = True <br>\n",
    "    overlappingFactor = 0.3 <br>"
   ]
  },
  {
   "cell_type": "code",
   "execution_count": null,
   "metadata": {},
   "outputs": [],
   "source": [
    "#windowing parameters\n",
    "trimCutoff = 5\n",
    "windowSize = 8\n",
    "overlapping = True\n",
    "overlappingFactor = 0.3"
   ]
  },
  {
   "cell_type": "code",
   "execution_count": null,
   "metadata": {},
   "outputs": [],
   "source": [
    "#create data\n",
    "df = createDataframe(windowSize, trimCutoff, overlapping, overlappingFactor)\n",
    "X, y = createDataMatrix(df)\n",
    "\n",
    "print(\"Shape of X: \", X.shape)\n",
    "print(\"Shape of Y: \", y.shape)"
   ]
  },
  {
   "cell_type": "code",
   "execution_count": null,
   "metadata": {},
   "outputs": [],
   "source": [
    "#logistic Regression\n",
    "lrModel, lrAccuracy, lrPrecision, lrRecall = classify('LogisticRegression', X, y)"
   ]
  },
  {
   "cell_type": "code",
   "execution_count": null,
   "metadata": {},
   "outputs": [],
   "source": [
    "#hard margin SVM 1\n",
    "\n",
    "#kernel = 'rbf'\n",
    "#C = 1000\n",
    "#decision_function_shape = 'ovo'\n",
    "\n",
    "args = ['rbf', 1000, 'ovo']\n",
    "\n",
    "hmSVC1Model, hmSVC1Accuracy, hmSVC1Precision, hmSVC1Recall = classify('SVC', X, y, args)"
   ]
  },
  {
   "cell_type": "code",
   "execution_count": null,
   "metadata": {},
   "outputs": [],
   "source": [
    "#hard margin SVM 2\n",
    "\n",
    "#kernel = 'rbf'\n",
    "#C = 1000\n",
    "#decision_function_shape = 'ovr'\n",
    "\n",
    "args = ['rbf', 1000, 'ovr']\n",
    "\n",
    "hmSVC2Model, hmSVC2Accuracy, hmSVC2Precision, hmSVC2Recall = classify('SVC', X, y, args)"
   ]
  },
  {
   "cell_type": "code",
   "execution_count": null,
   "metadata": {},
   "outputs": [],
   "source": [
    "#hard margin SVM 3\n",
    "\n",
    "#kernel = 'linear'\n",
    "#C = 1000\n",
    "#decision_function_shape = 'ovo'\n",
    "\n",
    "args = ['linear', 1000, 'ovo']\n",
    "\n",
    "hmSVC3Model, hmSVC3Accuracy, hmSVC3Precision, hmSVC3Recall = classify('SVC', X, y, args)"
   ]
  },
  {
   "cell_type": "code",
   "execution_count": null,
   "metadata": {},
   "outputs": [],
   "source": [
    "#hard margin SVM 4\n",
    "\n",
    "#kernel = 'linear'\n",
    "#C = 1000\n",
    "#decision_function_shape = 'ovr'\n",
    "\n",
    "args = ['linear', 1000, 'ovr']\n",
    "\n",
    "hmSVC4Model, hmSVC4Accuracy, hmSVC4Precision, hmSVC4Recall = classify('SVC', X, y, args)"
   ]
  },
  {
   "cell_type": "code",
   "execution_count": null,
   "metadata": {},
   "outputs": [],
   "source": [
    "#soft margin SVM 1\n",
    "\n",
    "#kernel = 'rbf'\n",
    "#C = 0.001\n",
    "#decision_function_shape = 'ovo'\n",
    "\n",
    "args = ['rbf', 0.001, 'ovo']\n",
    "\n",
    "smSVC1Model, smSVC1Accuracy, smSVC1Precision, smSVC1Recall = classify('SVC', X, y, args)"
   ]
  },
  {
   "cell_type": "code",
   "execution_count": null,
   "metadata": {},
   "outputs": [],
   "source": [
    "#soft margin SVM 2\n",
    "\n",
    "#kernel = 'rbf'\n",
    "#C = 0.001\n",
    "#decision_function_shape = 'ovr'\n",
    "\n",
    "args = ['rbf', 0.001, 'ovr']\n",
    "\n",
    "smSVC2Model, smSVC2Accuracy, smSVC2Precision, smSVC2Recall = classify('SVC', X, y, args)"
   ]
  },
  {
   "cell_type": "code",
   "execution_count": null,
   "metadata": {},
   "outputs": [],
   "source": [
    "#soft margin SVM 3\n",
    "\n",
    "#kernel = 'linear'\n",
    "#C = 0.001\n",
    "#decision_function_shape = 'ovo'\n",
    "\n",
    "args = ['linear', 0.001, 'ovo']\n",
    "\n",
    "smSVC3Model, smSVC3Accuracy, smSVC3Precision, smSVC3Recall = classify('SVC', X, y, args)"
   ]
  },
  {
   "cell_type": "code",
   "execution_count": null,
   "metadata": {},
   "outputs": [],
   "source": [
    "#soft margin SVM 4\n",
    "\n",
    "#kernel = 'linear'\n",
    "#C = 0.001\n",
    "#decision_function_shape = 'ovr'\n",
    "\n",
    "args = ['linear', 0.001, 'ovr']\n",
    "\n",
    "smSVC4Model, smSVC4Accuracy, smSVC4Precision, smSVC4Recall = classify('SVC', X, y, args)"
   ]
  },
  {
   "cell_type": "code",
   "execution_count": null,
   "metadata": {},
   "outputs": [],
   "source": [
    "#decision Tree 1\n",
    "\n",
    "#max_features = 6\n",
    "#criterion = 'gini'\n",
    "\n",
    "args = [6, 'gini']\n",
    "\n",
    "dt1Model, dt1Accuracy, dt1Precision, dt1Recall = classify('DecisionTreeClassifier', X, y, args)"
   ]
  },
  {
   "cell_type": "code",
   "execution_count": null,
   "metadata": {},
   "outputs": [],
   "source": [
    "#decision Tree 2\n",
    "\n",
    "#max_features = 6\n",
    "#criterion = 'entropy'\n",
    "\n",
    "args = [6, 'entropy']\n",
    "\n",
    "dt2Model, dt2Accuracy, dt2Precision, dt2Recall = classify('DecisionTreeClassifier', X, y, args)"
   ]
  }
 ],
 "metadata": {
  "kernelspec": {
   "display_name": "Python 3",
   "language": "python",
   "name": "python3"
  },
  "language_info": {
   "codemirror_mode": {
    "name": "ipython",
    "version": 3
   },
   "file_extension": ".py",
   "mimetype": "text/x-python",
   "name": "python",
   "nbconvert_exporter": "python",
   "pygments_lexer": "ipython3",
   "version": "3.6.2"
  }
 },
 "nbformat": 4,
 "nbformat_minor": 2
}
